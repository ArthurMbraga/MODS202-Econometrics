{
 "cells": [
  {
   "cell_type": "code",
   "execution_count": 39,
   "metadata": {},
   "outputs": [],
   "source": [
    "import numpy as np\n",
    "import pandas as pd\n",
    "import matplotlib.pyplot as plt\n",
    "import statsmodels.api as sm\n",
    "from scipy.stats import t, f\n",
    "from statsmodels.tsa.stattools import adfuller\n"
   ]
  },
  {
   "cell_type": "markdown",
   "metadata": {},
   "source": [
    "MARTINS BRAGA Arthur\n",
    "\n",
    "DE SENE ALVIZI Yuri"
   ]
  },
  {
   "cell_type": "markdown",
   "metadata": {},
   "source": [
    "#### PART 1 - CROSS-SECTION DATA"
   ]
  },
  {
   "cell_type": "code",
   "execution_count": 40,
   "metadata": {},
   "outputs": [
    {
     "data": {
      "text/html": [
       "<div>\n",
       "<style scoped>\n",
       "    .dataframe tbody tr th:only-of-type {\n",
       "        vertical-align: middle;\n",
       "    }\n",
       "\n",
       "    .dataframe tbody tr th {\n",
       "        vertical-align: top;\n",
       "    }\n",
       "\n",
       "    .dataframe thead th {\n",
       "        text-align: right;\n",
       "    }\n",
       "</style>\n",
       "<table border=\"1\" class=\"dataframe\">\n",
       "  <thead>\n",
       "    <tr style=\"text-align: right;\">\n",
       "      <th></th>\n",
       "      <th>price</th>\n",
       "      <th>crime</th>\n",
       "      <th>nox</th>\n",
       "      <th>rooms</th>\n",
       "      <th>dist</th>\n",
       "      <th>radial</th>\n",
       "      <th>proptax</th>\n",
       "      <th>stratio</th>\n",
       "      <th>lowstat</th>\n",
       "      <th>lprice</th>\n",
       "      <th>lnox</th>\n",
       "      <th>lproptax</th>\n",
       "    </tr>\n",
       "  </thead>\n",
       "  <tbody>\n",
       "    <tr>\n",
       "      <th>0</th>\n",
       "      <td>24000</td>\n",
       "      <td>0.006</td>\n",
       "      <td>5.38</td>\n",
       "      <td>6.57</td>\n",
       "      <td>4.09</td>\n",
       "      <td>1</td>\n",
       "      <td>29.6</td>\n",
       "      <td>15.3</td>\n",
       "      <td>4.98</td>\n",
       "      <td>10.085810</td>\n",
       "      <td>1.682688</td>\n",
       "      <td>5.690360</td>\n",
       "    </tr>\n",
       "    <tr>\n",
       "      <th>1</th>\n",
       "      <td>21599</td>\n",
       "      <td>0.027</td>\n",
       "      <td>4.69</td>\n",
       "      <td>6.42</td>\n",
       "      <td>4.97</td>\n",
       "      <td>2</td>\n",
       "      <td>24.2</td>\n",
       "      <td>17.8</td>\n",
       "      <td>9.14</td>\n",
       "      <td>9.980402</td>\n",
       "      <td>1.545433</td>\n",
       "      <td>5.488938</td>\n",
       "    </tr>\n",
       "    <tr>\n",
       "      <th>2</th>\n",
       "      <td>34700</td>\n",
       "      <td>0.027</td>\n",
       "      <td>4.69</td>\n",
       "      <td>7.18</td>\n",
       "      <td>4.97</td>\n",
       "      <td>2</td>\n",
       "      <td>24.2</td>\n",
       "      <td>17.8</td>\n",
       "      <td>4.03</td>\n",
       "      <td>10.454500</td>\n",
       "      <td>1.545433</td>\n",
       "      <td>5.488938</td>\n",
       "    </tr>\n",
       "    <tr>\n",
       "      <th>3</th>\n",
       "      <td>33400</td>\n",
       "      <td>0.032</td>\n",
       "      <td>4.58</td>\n",
       "      <td>7.00</td>\n",
       "      <td>6.06</td>\n",
       "      <td>3</td>\n",
       "      <td>22.2</td>\n",
       "      <td>18.7</td>\n",
       "      <td>2.94</td>\n",
       "      <td>10.416310</td>\n",
       "      <td>1.521699</td>\n",
       "      <td>5.402678</td>\n",
       "    </tr>\n",
       "    <tr>\n",
       "      <th>4</th>\n",
       "      <td>36199</td>\n",
       "      <td>0.069</td>\n",
       "      <td>4.58</td>\n",
       "      <td>7.15</td>\n",
       "      <td>6.06</td>\n",
       "      <td>3</td>\n",
       "      <td>22.2</td>\n",
       "      <td>18.7</td>\n",
       "      <td>5.33</td>\n",
       "      <td>10.496790</td>\n",
       "      <td>1.521699</td>\n",
       "      <td>5.402678</td>\n",
       "    </tr>\n",
       "  </tbody>\n",
       "</table>\n",
       "</div>"
      ],
      "text/plain": [
       "   price  crime   nox  rooms  dist  radial  proptax  stratio  lowstat  \\\n",
       "0  24000  0.006  5.38   6.57  4.09       1     29.6     15.3     4.98   \n",
       "1  21599  0.027  4.69   6.42  4.97       2     24.2     17.8     9.14   \n",
       "2  34700  0.027  4.69   7.18  4.97       2     24.2     17.8     4.03   \n",
       "3  33400  0.032  4.58   7.00  6.06       3     22.2     18.7     2.94   \n",
       "4  36199  0.069  4.58   7.15  6.06       3     22.2     18.7     5.33   \n",
       "\n",
       "      lprice      lnox  lproptax  \n",
       "0  10.085810  1.682688  5.690360  \n",
       "1   9.980402  1.545433  5.488938  \n",
       "2  10.454500  1.545433  5.488938  \n",
       "3  10.416310  1.521699  5.402678  \n",
       "4  10.496790  1.521699  5.402678  "
      ]
     },
     "execution_count": 40,
     "metadata": {},
     "output_type": "execute_result"
    }
   ],
   "source": [
    "df = pd.read_csv('textfiles/HPRICE2.raw', delim_whitespace=True, header=None, names=[\n",
    "                 'price', 'crime', 'nox', 'rooms', 'dist', 'radial', 'proptax', 'stratio', 'lowstat', 'lprice', 'lnox', 'lproptax'])\n",
    "df.head()"
   ]
  },
  {
   "cell_type": "markdown",
   "metadata": {},
   "source": [
    "**1. State the fundamental hypothesis under which the Ordinary Least Squares (OLS) estimators\n",
    "   are unbiased.**"
   ]
  },
  {
   "cell_type": "markdown",
   "metadata": {},
   "source": [
    "The fundamental hypothesis under which the Ordinary Least Squares (OLS) estimators are unbiased is that the unobserved variable has a zero mean. So, in other words, to obtain unbiased estimators in a population model such as:\n",
    "\n",
    "$$\n",
    "y = \\beta_0 + \\beta_1 x + u\n",
    "$$\n",
    "\n",
    "where $u$ is the error term, also known as the disturbance or unobserved variable, we need to ensure that the expected value of the error term conditioned on the independent variables(s) (X) is equal to the unconditional expected value, which is zero. Mathematically, this can be expressed as: \n",
    "\n",
    "$$\n",
    "E(u|X) = E(u) = 0\n",
    "$$\n"
   ]
  },
  {
   "cell_type": "markdown",
   "metadata": {},
   "source": [
    "**2. Show that under this assumption the OLS estimators are indeed unbiased.**"
   ]
  },
  {
   "cell_type": "markdown",
   "metadata": {},
   "source": [
    "We can rewrite the following linear model:\n",
    "\n",
    "$$\n",
    "y_i = \\beta_0 + \\beta_1 x_{i1} + ... + \\beta_{K} x_{iK} + u_i\n",
    "$$\n",
    "\n",
    "in the matrix form, such as:\n",
    "\n",
    "$$\n",
    "y = X \\beta + u\n",
    "$$\n",
    "\n",
    "with $y = (y_1, ..., y_n)'$, $x_k = (x_{1k}, ..., x_{nk})'$, $u=(u_1,...,u_n)'$, $\\beta = [\\beta_1, ..., \\beta_K]'$ and $X = [x_1, ..., x_K]$. So, to derive OLS we need to find $\\beta$ that minimizes the following expression:\n",
    "\n",
    "$$\n",
    "u' u = (y - X \\beta)' (y - X \\beta)\n",
    "$$\n",
    "\n",
    "In order to do that, we use the fact that the orthogonality condition must be satisfied between X and u, leadind to:\n",
    "\n",
    "$$\n",
    "-2 X' (y - X \\beta) = 0\n",
    "$$\n",
    "\n",
    "Re-arranging considering that $(X'X)$ is inverted, since there is no multi-collinearity:\n",
    "\n",
    "$$\n",
    "\\hat{\\beta} = (X' X)^{-1} X' y\n",
    "$$\n",
    "\n",
    "To be unbiased, the estimator above must satisfies:\n",
    "\n",
    "$$\n",
    "b(\\beta, \\hat{\\beta}) = E(\\hat{\\beta}) - \\beta = 0\n",
    "$$\n",
    "\n",
    "The estimator expectation is given by:\n",
    "\n",
    "$$\n",
    "E(\\hat{\\beta}) = E[(X'X)^{-1} X' (X \\beta + u)] = \\beta + E(X'u)\n",
    "$$\n",
    "\n",
    "So, in order to satisfy $b(\\beta, \\hat{\\beta}) = 0$, the fundamental hypothesis stated in the last item ($E(X'u) = 0$) must be satisfied.\n",
    "\n",
    "\n"
   ]
  },
  {
   "cell_type": "markdown",
   "metadata": {},
   "source": [
    "**3. Explain the sample selection bias with an example from the course.**"
   ]
  },
  {
   "cell_type": "markdown",
   "metadata": {},
   "source": [
    "As discussed in the course, sample selection bias occurs when the sample used in analysis is not representative of the population under study.\n",
    "\n",
    "For instance, during World War II, a sample of RAF planes returning from war zones was used to determine areas that needed reinforcement. However, this sample excluded planes that were shot down, resulting in a biased sample. Consequently, the conclusion that reinforcing areas with bullet holes was necessary was erroneous. In reality, other areas should have been reinforced since planes with bullet holes were still able to return, while others couldn't."
   ]
  },
  {
   "cell_type": "markdown",
   "metadata": {},
   "source": [
    "**4. Explain the omitted variable bias with an example from the course**"
   ]
  },
  {
   "cell_type": "markdown",
   "metadata": {},
   "source": [
    "Omitted variable bias occurs when a relevant variable is left out of a statistical analysis, leading to biased and unreliable results.\n",
    "\n",
    "In the example of the effect of fertilizers on agricultural yield in soybean cultivation seen in the course, the yield is influenced by various factors including climate and soil quality. When conducting an experiment by selecting plots of land and applying different amounts of fertilizer, there is a possibility of systematically applying more fertilizer to the plots with better soil quality. This leads to unreliable results due to the omission of the soil quality variable, which is an important factor in determining yield."
   ]
  },
  {
   "cell_type": "markdown",
   "metadata": {},
   "source": [
    "**5. Explain the problem of multicollinearity. Is it a problem in this dataset?**"
   ]
  },
  {
   "cell_type": "markdown",
   "metadata": {},
   "source": [
    "Multicollinearity is a problem that occurs when two or more independent variables are highly correlated. This can lead to imprecise coefficient estimates and higher variances.\n",
    "\n",
    "To determine if multicollinearity is a problem is this dataset, we calculate the correlation between some variables."
   ]
  },
  {
   "cell_type": "code",
   "execution_count": 41,
   "metadata": {},
   "outputs": [
    {
     "name": "stdout",
     "output_type": "stream",
     "text": [
      "Variables with high multicollinearity:\n",
      "    Variable           VIF\n",
      "0      price     94.338157\n",
      "2        nox   3090.065448\n",
      "3      rooms    172.657052\n",
      "4       dist     18.289159\n",
      "5     radial     21.282301\n",
      "6    proptax    528.920116\n",
      "7    stratio    145.243334\n",
      "8    lowstat     12.750353\n",
      "9     lprice   7712.626104\n",
      "10      lnox  10775.833463\n",
      "11  lproptax  10513.390159\n"
     ]
    }
   ],
   "source": [
    "from statsmodels.stats.outliers_influence import variance_inflation_factor\n",
    "\n",
    "threshold = 10  # Threshold for identifying variables with high multicollinearity\n",
    "\n",
    "# Calculate VIF for each variable\n",
    "vif = pd.DataFrame()\n",
    "vif[\"Variable\"] = df.columns\n",
    "vif[\"VIF\"] = [variance_inflation_factor(df.values, i) for i in range(df.shape[1])]\n",
    "\n",
    "# Identify variables with high multicollinearity\n",
    "high_vif = vif[vif[\"VIF\"] > threshold]\n",
    "\n",
    "if len(high_vif) > 0:\n",
    "    print(\"Variables with high multicollinearity:\")\n",
    "    print(high_vif)\n",
    "else:\n",
    "    print(\"No variables with high multicollinearity.\")\n",
    "threshold = 0.7"
   ]
  },
  {
   "cell_type": "markdown",
   "metadata": {},
   "source": [
    "From the results above, this dataset contains some highly correlated coefficients, such as the $radial$ and the $proptax$ with a correlation of 0.91. Therefore, we can state that the multicollinearity is a problem in this dataset."
   ]
  },
  {
   "cell_type": "markdown",
   "metadata": {},
   "source": [
    "**6. Create three categories of nox levels (low, medium, high), corresponding to the following percentiles: 0-25%, 26%-74%, 75%-100%**"
   ]
  },
  {
   "cell_type": "code",
   "execution_count": 42,
   "metadata": {},
   "outputs": [
    {
     "data": {
      "text/html": [
       "<div>\n",
       "<style scoped>\n",
       "    .dataframe tbody tr th:only-of-type {\n",
       "        vertical-align: middle;\n",
       "    }\n",
       "\n",
       "    .dataframe tbody tr th {\n",
       "        vertical-align: top;\n",
       "    }\n",
       "\n",
       "    .dataframe thead th {\n",
       "        text-align: right;\n",
       "    }\n",
       "</style>\n",
       "<table border=\"1\" class=\"dataframe\">\n",
       "  <thead>\n",
       "    <tr style=\"text-align: right;\">\n",
       "      <th></th>\n",
       "      <th>price</th>\n",
       "      <th>crime</th>\n",
       "      <th>nox</th>\n",
       "      <th>rooms</th>\n",
       "      <th>dist</th>\n",
       "      <th>radial</th>\n",
       "      <th>proptax</th>\n",
       "      <th>stratio</th>\n",
       "      <th>lowstat</th>\n",
       "      <th>lprice</th>\n",
       "      <th>lnox</th>\n",
       "      <th>lproptax</th>\n",
       "      <th>nox_level</th>\n",
       "    </tr>\n",
       "  </thead>\n",
       "  <tbody>\n",
       "    <tr>\n",
       "      <th>0</th>\n",
       "      <td>24000</td>\n",
       "      <td>0.006</td>\n",
       "      <td>5.38</td>\n",
       "      <td>6.57</td>\n",
       "      <td>4.09</td>\n",
       "      <td>1</td>\n",
       "      <td>29.6</td>\n",
       "      <td>15.3</td>\n",
       "      <td>4.98</td>\n",
       "      <td>10.085810</td>\n",
       "      <td>1.682688</td>\n",
       "      <td>5.690360</td>\n",
       "      <td>medium</td>\n",
       "    </tr>\n",
       "    <tr>\n",
       "      <th>1</th>\n",
       "      <td>21599</td>\n",
       "      <td>0.027</td>\n",
       "      <td>4.69</td>\n",
       "      <td>6.42</td>\n",
       "      <td>4.97</td>\n",
       "      <td>2</td>\n",
       "      <td>24.2</td>\n",
       "      <td>17.8</td>\n",
       "      <td>9.14</td>\n",
       "      <td>9.980402</td>\n",
       "      <td>1.545433</td>\n",
       "      <td>5.488938</td>\n",
       "      <td>medium</td>\n",
       "    </tr>\n",
       "    <tr>\n",
       "      <th>2</th>\n",
       "      <td>34700</td>\n",
       "      <td>0.027</td>\n",
       "      <td>4.69</td>\n",
       "      <td>7.18</td>\n",
       "      <td>4.97</td>\n",
       "      <td>2</td>\n",
       "      <td>24.2</td>\n",
       "      <td>17.8</td>\n",
       "      <td>4.03</td>\n",
       "      <td>10.454500</td>\n",
       "      <td>1.545433</td>\n",
       "      <td>5.488938</td>\n",
       "      <td>medium</td>\n",
       "    </tr>\n",
       "    <tr>\n",
       "      <th>3</th>\n",
       "      <td>33400</td>\n",
       "      <td>0.032</td>\n",
       "      <td>4.58</td>\n",
       "      <td>7.00</td>\n",
       "      <td>6.06</td>\n",
       "      <td>3</td>\n",
       "      <td>22.2</td>\n",
       "      <td>18.7</td>\n",
       "      <td>2.94</td>\n",
       "      <td>10.416310</td>\n",
       "      <td>1.521699</td>\n",
       "      <td>5.402678</td>\n",
       "      <td>medium</td>\n",
       "    </tr>\n",
       "    <tr>\n",
       "      <th>4</th>\n",
       "      <td>36199</td>\n",
       "      <td>0.069</td>\n",
       "      <td>4.58</td>\n",
       "      <td>7.15</td>\n",
       "      <td>6.06</td>\n",
       "      <td>3</td>\n",
       "      <td>22.2</td>\n",
       "      <td>18.7</td>\n",
       "      <td>5.33</td>\n",
       "      <td>10.496790</td>\n",
       "      <td>1.521699</td>\n",
       "      <td>5.402678</td>\n",
       "      <td>medium</td>\n",
       "    </tr>\n",
       "  </tbody>\n",
       "</table>\n",
       "</div>"
      ],
      "text/plain": [
       "   price  crime   nox  rooms  dist  radial  proptax  stratio  lowstat  \\\n",
       "0  24000  0.006  5.38   6.57  4.09       1     29.6     15.3     4.98   \n",
       "1  21599  0.027  4.69   6.42  4.97       2     24.2     17.8     9.14   \n",
       "2  34700  0.027  4.69   7.18  4.97       2     24.2     17.8     4.03   \n",
       "3  33400  0.032  4.58   7.00  6.06       3     22.2     18.7     2.94   \n",
       "4  36199  0.069  4.58   7.15  6.06       3     22.2     18.7     5.33   \n",
       "\n",
       "      lprice      lnox  lproptax nox_level  \n",
       "0  10.085810  1.682688  5.690360    medium  \n",
       "1   9.980402  1.545433  5.488938    medium  \n",
       "2  10.454500  1.545433  5.488938    medium  \n",
       "3  10.416310  1.521699  5.402678    medium  \n",
       "4  10.496790  1.521699  5.402678    medium  "
      ]
     },
     "execution_count": 42,
     "metadata": {},
     "output_type": "execute_result"
    }
   ],
   "source": [
    "low, high = df['nox'].quantile([0.25, 0.75])\n",
    "df['nox_level'] = pd.cut(df['nox'], bins=[df['nox'].min(), low, high, df['nox'].max()], labels=['low', 'medium', 'high'], include_lowest=True)\n",
    "df.head()"
   ]
  },
  {
   "cell_type": "markdown",
   "metadata": {},
   "source": [
    "**7. Compute for each category of nox level the average median price and comment on your results**"
   ]
  },
  {
   "cell_type": "code",
   "execution_count": 43,
   "metadata": {},
   "outputs": [
    {
     "name": "stdout",
     "output_type": "stream",
     "text": [
      "nox_level\n",
      "low       26977.093750\n",
      "medium    22741.555118\n",
      "high      17430.653226\n",
      "Name: price, dtype: float64\n"
     ]
    }
   ],
   "source": [
    "grouped = df.groupby('nox_level')\n",
    "average_prices = grouped['price'].mean()\n",
    "print(average_prices)"
   ]
  },
  {
   "cell_type": "markdown",
   "metadata": {},
   "source": [
    "| NOx Level | Value |\n",
    "| --------- | ----- |\n",
    "| Low       | 26977.09 |\n",
    "| Medium    | 22741.567 |\n",
    "| High      | 17430.65 |\n",
    "\n",
    "These values suggest a descending trend in average median prices as the NOx level increases. This could indicate a negative correlation between NOx levels and housing prices."
   ]
  },
  {
   "cell_type": "markdown",
   "metadata": {
    "tags": []
   },
   "source": [
    "**8. Produce a scatter plot with the variable price on the y-axis and the variable nox on the x-axis. Is this a ceteris paribus effect?**"
   ]
  },
  {
   "cell_type": "code",
   "execution_count": 44,
   "metadata": {},
   "outputs": [
    {
     "data": {
      "image/png": "[encoded data removed]",
      "text/plain": [
       "<Figure size 640x480 with 1 Axes>"
      ]
     },
     "metadata": {},
     "output_type": "display_data"
    }
   ],
   "source": [
    "plt.scatter(df['nox'], df['price'])\n",
    "plt.xlabel('NOX')\n",
    "plt.ylabel('Price')\n",
    "plt.title('Scatter plot of Price vs NOX')\n",
    "plt.show()"
   ]
  },
  {
   "cell_type": "markdown",
   "metadata": {},
   "source": [
    "When analyzing the graph, it is possible to observe that the average prices increase as NOx levels rise. However, it cannot be asserted that this is a ceteris paribus effect because we do not know if the other variables are held constant, and a scatter plot alone is not sufficient. Moreover, it is possible to see that there are different prices for the same NOx level, indicating the likely presence of other variables influencing the price, which are therefore not constant."
   ]
  },
  {
   "cell_type": "markdown",
   "metadata": {},
   "source": [
    "**9. Run a regression of price on a constant, crime, nox, rooms, proptax. Comment on the histogram of the residuals. Interpret all coefficients.**"
   ]
  },
  {
   "cell_type": "code",
   "execution_count": 45,
   "metadata": {},
   "outputs": [
    {
     "name": "stdout",
     "output_type": "stream",
     "text": [
      "                            OLS Regression Results                            \n",
      "==============================================================================\n",
      "Dep. Variable:                  price   R-squared:                       0.575\n",
      "Model:                            OLS   Adj. R-squared:                  0.572\n",
      "Method:                 Least Squares   F-statistic:                     169.6\n",
      "Date:                Sun, 10 Dec 2023   Prob (F-statistic):           1.06e-91\n",
      "Time:                        21:12:19   Log-Likelihood:                -5119.6\n",
      "No. Observations:                 506   AIC:                         1.025e+04\n",
      "Df Residuals:                     501   BIC:                         1.027e+04\n",
      "Df Model:                           4                                         \n",
      "Covariance Type:            nonrobust                                         \n",
      "==============================================================================\n",
      "                 coef    std err          t      P>|t|      [0.025      0.975]\n",
      "------------------------------------------------------------------------------\n",
      "const      -1.868e+04   3215.205     -5.811      0.000    -2.5e+04   -1.24e+04\n",
      "crime       -136.5438     38.529     -3.544      0.000    -212.241     -60.846\n",
      "nox         -660.4672    314.634     -2.099      0.036   -1278.632     -42.303\n",
      "rooms       7797.9286    404.345     19.285      0.000    7003.507    8592.350\n",
      "proptax      -89.4144     23.966     -3.731      0.000    -136.500     -42.329\n",
      "==============================================================================\n",
      "Omnibus:                      264.796   Durbin-Watson:                   0.752\n",
      "Prob(Omnibus):                  0.000   Jarque-Bera (JB):             2348.397\n",
      "Skew:                           2.111   Prob(JB):                         0.00\n",
      "Kurtosis:                      12.673   Cond. No.                         546.\n",
      "==============================================================================\n",
      "\n",
      "Notes:\n",
      "[1] Standard Errors assume that the covariance matrix of the errors is correctly specified.\n"
     ]
    },
    {
     "data": {
      "image/png": "[encoded data removed]",
      "text/plain": [
       "<Figure size 640x480 with 1 Axes>"
      ]
     },
     "metadata": {},
     "output_type": "display_data"
    }
   ],
   "source": [
    "X = df[['crime', 'nox', 'rooms', 'proptax']]\n",
    "y_9 = df['price']\n",
    "\n",
    "X = sm.add_constant(X)\n",
    "\n",
    "model = sm.OLS(y_9, X)\n",
    "results9 = model.fit()\n",
    "print(results9.summary())\n",
    "\n",
    "plt.hist(results9.resid, bins='auto')\n",
    "plt.title('Histogram of residuals')\n",
    "plt.show()"
   ]
  },
  {
   "cell_type": "markdown",
   "metadata": {},
   "source": [
    "The OLS regression results show that all the variables (crime, nox, rooms, proptax) are statistically significant to the price variation as their p-values are less than 0.05.\n",
    "\n",
    "The coefficients indicate that the price is negatively correlated with crime, nox, and proptax, and positively correlated with rooms.\n",
    "\n",
    "The histogram of residuals follows a normal distribution. It suggests that the linear regression model might fit for this data."
   ]
  },
  {
   "cell_type": "markdown",
   "metadata": {},
   "source": [
    "**10. Run a regression of lprice on a constant, crime, nox, rooms, proptax. Comment on the histogram of the residuals. Interpret all coefficients.**"
   ]
  },
  {
   "cell_type": "code",
   "execution_count": 46,
   "metadata": {},
   "outputs": [
    {
     "name": "stdout",
     "output_type": "stream",
     "text": [
      "                            OLS Regression Results                            \n",
      "==============================================================================\n",
      "Dep. Variable:                 lprice   R-squared:                       0.611\n",
      "Model:                            OLS   Adj. R-squared:                  0.608\n",
      "Method:                 Least Squares   F-statistic:                     196.9\n",
      "Date:                Sun, 10 Dec 2023   Prob (F-statistic):          2.50e-101\n",
      "Time:                        21:12:20   Log-Likelihood:                -26.367\n",
      "No. Observations:                 506   AIC:                             62.73\n",
      "Df Residuals:                     501   BIC:                             83.87\n",
      "Df Model:                           4                                         \n",
      "Covariance Type:            nonrobust                                         \n",
      "==============================================================================\n",
      "                 coef    std err          t      P>|t|      [0.025      0.975]\n",
      "------------------------------------------------------------------------------\n",
      "const          8.6550      0.137     63.320      0.000       8.386       8.924\n",
      "crime         -0.0125      0.002     -7.641      0.000      -0.016      -0.009\n",
      "nox           -0.0476      0.013     -3.557      0.000      -0.074      -0.021\n",
      "rooms          0.2816      0.017     16.379      0.000       0.248       0.315\n",
      "proptax       -0.0043      0.001     -4.184      0.000      -0.006      -0.002\n",
      "==============================================================================\n",
      "Omnibus:                      118.409   Durbin-Watson:                   0.764\n",
      "Prob(Omnibus):                  0.000   Jarque-Bera (JB):              730.140\n",
      "Skew:                           0.859   Prob(JB):                    2.83e-159\n",
      "Kurtosis:                       8.629   Cond. No.                         546.\n",
      "==============================================================================\n",
      "\n",
      "Notes:\n",
      "[1] Standard Errors assume that the covariance matrix of the errors is correctly specified.\n"
     ]
    },
    {
     "data": {
      "image/png": "[encoded data removed]",
      "text/plain": [
       "<Figure size 640x480 with 1 Axes>"
      ]
     },
     "metadata": {},
     "output_type": "display_data"
    }
   ],
   "source": [
    "X = df[['crime', 'nox', 'rooms', 'proptax']]\n",
    "y = df['lprice']\n",
    "\n",
    "X = sm.add_constant(X)\n",
    "\n",
    "model = sm.OLS(y, X)\n",
    "results10 = model.fit()\n",
    "print(results10.summary())\n",
    "\n",
    "plt.hist(results10.resid, bins='auto')\n",
    "plt.title('Histogram of residuals')\n",
    "plt.show()"
   ]
  },
  {
   "cell_type": "markdown",
   "metadata": {},
   "source": [
    "The OLS regression results show that all the variables (crime, nox, rooms, proptax) are statistically significant to lprice variation as their p-values are less than 0.05.\n",
    "\n",
    "The coefficients indicate that the price is negatively correlated with crime, nox, and proptax, and positively correlated with rooms.\n",
    "\n",
    "The histogram of residuals follows a normal distribution. It suggests that the linear regression model might fit for this data.\n",
    "\n",
    "Comparing with the results of the previous model, the coefficients are smaller in this model. And the R-squared is higher in this model, which means that this model fits better than the previous one."
   ]
  },
  {
   "cell_type": "markdown",
   "metadata": {},
   "source": [
    "**11. Run a regression of lprice on a constant, crime, lnox, rooms, lproptax. Comment on the histogram of the residuals. Interpret all coefficients.**"
   ]
  },
  {
   "cell_type": "code",
   "execution_count": 47,
   "metadata": {},
   "outputs": [
    {
     "name": "stdout",
     "output_type": "stream",
     "text": [
      "                            OLS Regression Results                            \n",
      "==============================================================================\n",
      "Dep. Variable:                 lprice   R-squared:                       0.612\n",
      "Model:                            OLS   Adj. R-squared:                  0.609\n",
      "Method:                 Least Squares   F-statistic:                     197.4\n",
      "Date:                Sun, 10 Dec 2023   Prob (F-statistic):          1.77e-101\n",
      "Time:                        21:12:20   Log-Likelihood:                -26.021\n",
      "No. Observations:                 506   AIC:                             62.04\n",
      "Df Residuals:                     501   BIC:                             83.18\n",
      "Df Model:                           4                                         \n",
      "Covariance Type:            nonrobust                                         \n",
      "==============================================================================\n",
      "                 coef    std err          t      P>|t|      [0.025      0.975]\n",
      "------------------------------------------------------------------------------\n",
      "const          9.7505      0.253     38.476      0.000       9.253      10.248\n",
      "crime         -0.0128      0.002     -8.002      0.000      -0.016      -0.010\n",
      "lnox          -0.2769      0.077     -3.591      0.000      -0.428      -0.125\n",
      "rooms          0.2802      0.017     16.282      0.000       0.246       0.314\n",
      "lproptax      -0.1779      0.042     -4.215      0.000      -0.261      -0.095\n",
      "==============================================================================\n",
      "Omnibus:                      116.110   Durbin-Watson:                   0.768\n",
      "Prob(Omnibus):                  0.000   Jarque-Bera (JB):              716.737\n",
      "Skew:                           0.838   Prob(JB):                    2.30e-156\n",
      "Kurtosis:                       8.585   Cond. No.                         241.\n",
      "==============================================================================\n",
      "\n",
      "Notes:\n",
      "[1] Standard Errors assume that the covariance matrix of the errors is correctly specified.\n"
     ]
    },
    {
     "data": {
      "image/png": "[encoded data removed]",
      "text/plain": [
       "<Figure size 640x480 with 1 Axes>"
      ]
     },
     "metadata": {},
     "output_type": "display_data"
    }
   ],
   "source": [
    "X = df[['crime', 'lnox', 'rooms', 'lproptax']]\n",
    "y = df['lprice']\n",
    "\n",
    "X = sm.add_constant(X)\n",
    "\n",
    "model = sm.OLS(y, X)\n",
    "results11 = model.fit()\n",
    "print(results11.summary())\n",
    "\n",
    "plt.hist(results11.resid, bins='auto')\n",
    "plt.title('Histogram of residuals')\n",
    "plt.show()"
   ]
  },
  {
   "cell_type": "markdown",
   "metadata": {},
   "source": [
    "The OLS regression results show that all the variables (crime, lnox, rooms, lproptax) are statistically significant to lprice variation as their p-values are less than 0.05.\n",
    "\n",
    "The coefficients indicate that the price is negatively correlated with crime, lnox, and lproptax, and positively correlated with rooms.\n",
    "\n",
    "The histogram of residuals follows a normal distribution. It suggests that the linear regression model might fit for this data.\n",
    "\n",
    "The R-squared is a little bit higher than the previous model, which means that this model fits better than the previous one."
   ]
  },
  {
   "cell_type": "markdown",
   "metadata": {},
   "source": [
    "**12. In the specification of question 10, test the hypothesis $H_0:\\beta_{\\text{nox}} <0$ vs. $H_1: \\beta_{\\text{nox}} > 0$ at the 1% level**\n"
   ]
  },
  {
   "cell_type": "code",
   "execution_count": 48,
   "metadata": {},
   "outputs": [
    {
     "name": "stdout",
     "output_type": "stream",
     "text": [
      "p_value =  0.0004106959052589233\n",
      "We reject the null hypothesis at the 1% level.\n"
     ]
    }
   ],
   "source": [
    "p_value = results10.pvalues['nox']\n",
    "alpha = 0.01\n",
    "\n",
    "print('p_value = ', p_value)\n",
    "\n",
    "if p_value < alpha:\n",
    "    print(\"We reject the null hypothesis at the 1% level.\")\n",
    "else:\n",
    "    print(\"We do not reject the null hypothesis at the 1% level.\")"
   ]
  },
  {
   "cell_type": "markdown",
   "metadata": {},
   "source": [
    "**13.  In the specification of question 10, test the hypothesis $H_0:\\beta_{\\text{nox}} = 0$ vs. $H_1: \\beta_{\\text{nox}} \\neq 0$ at the 1% level using the p-value of the test**\n"
   ]
  },
  {
   "cell_type": "code",
   "execution_count": 49,
   "metadata": {},
   "outputs": [
    {
     "name": "stdout",
     "output_type": "stream",
     "text": [
      "p_value =  0.0004106959052589233\n",
      "We reject the null hypothesis at the 1% level.\n"
     ]
    }
   ],
   "source": [
    "p_value = results10.pvalues['nox']\n",
    "alpha = 0.01\n",
    "\n",
    "print('p_value = ', p_value)\n",
    "\n",
    "if p_value < alpha/2:\n",
    "    print(\"We reject the null hypothesis at the 1% level.\")\n",
    "else:\n",
    "    print(\"We do not reject the null hypothesis at the 1% level.\")"
   ]
  },
  {
   "cell_type": "markdown",
   "metadata": {},
   "source": [
    "**14.  In the specification of question 10, test the hypothesis $H_0: \\beta_{\\text{crime}} = \\beta_{\\text{proptax}}$ at the 10% level**"
   ]
  },
  {
   "cell_type": "code",
   "execution_count": 50,
   "metadata": {},
   "outputs": [
    {
     "name": "stdout",
     "output_type": "stream",
     "text": [
      "Critical value: -1.6479068539295052\n",
      "t-stat: -3.6235808366097197\n",
      "We reject the null hypothesis at the 10.0 % level.\n"
     ]
    }
   ],
   "source": [
    "# Model: \n",
    "# lprice = beta0 + beta1 * crime + beta2 * nox + beta3 * rooms + beta4 * proptax + u\n",
    "# theta = beta1 - beta4\n",
    "# H0: theta = 0\n",
    "# H1: theta != 0\n",
    "# \n",
    "# beta1 = theta + beta4\n",
    "# lprice = beta0 + (theta + beta4) * crime + beta2 * nox + beta3 * rooms + beta4 * proptax + u\n",
    "# lprice = beta0 + theta * crime + beta2 * nox + beta3 * rooms + beta4 * (crime + proptax) + u\n",
    "\n",
    "# Creating new variable: \n",
    "# crime_tax = crime + proptax\n",
    "\n",
    "X = df[['crime', 'nox', 'rooms']].copy()\n",
    "X['crime_tax'] = X['crime'] + df['proptax']\n",
    "X = sm.add_constant(X)\n",
    "\n",
    "y = df['lprice']\n",
    "\n",
    "model = sm.OLS(y, X)\n",
    "results14 = model.fit()\n",
    "\n",
    "# Hypothesis test:\n",
    "# t = theta / se(theta)\n",
    "t_stat = results14.params['crime'] / results14.bse['crime']\n",
    "\n",
    "alpha = 0.1\n",
    "ndf = len(y) - len(results14.params) - 1 # number of degrees of freedom\n",
    "critical_value = t.ppf(alpha/2, df=ndf) # two sided \n",
    "\n",
    "print('Critical value:', critical_value)\n",
    "print('t-stat:', t_stat)\n",
    "\n",
    "if abs(t_stat) > critical_value:\n",
    "  print(\"We reject the null hypothesis at the\", alpha*100, \"% level.\")\n",
    "else:\n",
    "  print(\"We do not reject the null hypothesis at the\", alpha*100, \"% level.\")\n"
   ]
  },
  {
   "cell_type": "markdown",
   "metadata": {},
   "source": [
    "**15. In the specification of question 10, test the hypothesis $H_0: \\beta_{\\text{nox}} = 0, \\, \\beta_{\\text{proptax}} = 0$ at the 10% level**\n",
    "    "
   ]
  },
  {
   "cell_type": "code",
   "execution_count": 51,
   "metadata": {},
   "outputs": [
    {
     "name": "stdout",
     "output_type": "stream",
     "text": [
      "F Statistic: 33.348835962831544\n",
      "Critical Value: 2.3132002236303255\n",
      "Reject the null hypothesis\n"
     ]
    }
   ],
   "source": [
    "x_unrestricted = sm.add_constant(df[['crime', 'nox', 'rooms', 'proptax']])\n",
    "x_restricted = sm.add_constant(df[['crime', 'rooms']])\n",
    "\n",
    "y = df['lprice']\n",
    "\n",
    "model_unrestricted = sm.OLS(y, x_unrestricted)\n",
    "model_restricted = sm.OLS(y, x_restricted)\n",
    "\n",
    "results_unrestricted = model_unrestricted.fit()\n",
    "results_restricted = model_restricted.fit()\n",
    "\n",
    "# Hypothesis test:\n",
    "\n",
    "SSR_unrestricted = results_unrestricted.ssr\n",
    "SSR_restricted = results_restricted.ssr\n",
    "\n",
    "k_unrestricted = x_unrestricted.shape[1] - 1\n",
    "k_restricted = x_restricted.shape[1] - 1\n",
    "q = k_unrestricted - k_restricted  # numerator degrees of freedom\n",
    "\n",
    "n = len(y)\n",
    "ddf = n - k_unrestricted - 1  # denominator degrees of freedom\n",
    "\n",
    "F_statistic = ((SSR_restricted - SSR_unrestricted) / q) / \\\n",
    "    (SSR_unrestricted / ddf)\n",
    "\n",
    "\n",
    "alpha = 0.10  # 10% significance level\n",
    "critical_value = f.ppf(1 - alpha, q, ddf)\n",
    "\n",
    "print(f'F Statistic: {F_statistic}')\n",
    "print(f'Critical Value: {critical_value}')\n",
    "\n",
    "if F_statistic > critical_value:\n",
    "    print('Reject the null hypothesis')\n",
    "else:\n",
    "    print('Fail to reject the null hypothesis')"
   ]
  },
  {
   "cell_type": "markdown",
   "metadata": {},
   "source": [
    "**16.  In the specification of question 10, test the hypothesis $H_0: \\beta_{\\text{nox}} = -500, \\, \\beta_{\\text{proptax}} = -100$ at the 10% level using the p-value of the test**"
   ]
  },
  {
   "cell_type": "code",
   "execution_count": 52,
   "metadata": {},
   "outputs": [
    {
     "name": "stdout",
     "output_type": "stream",
     "text": [
      "F Statistic: 10798305112.262833\n",
      "Critical Value: 2.3132002236303255\n",
      "Reject the null hypothesis\n"
     ]
    }
   ],
   "source": [
    "# Unrestricted model: \n",
    "# lprice = beta0 + beta1 * crime + beta2 * nox + beta3 * rooms + beta4 * proptax + u\n",
    "# \n",
    "# Restricted model:\n",
    "# lprice - beta2 * nox - beta4 * proptax = beta0 + beta1 * crime + beta3 * rooms\n",
    "# beta2 = -500; beta4 = -100; so:\n",
    "# lprice + 500 * nox + 100 * proptax = beta0 + beta1 * crime + beta3 * rooms\n",
    "\n",
    "x_unrestricted = sm.add_constant(df[['crime', 'nox', 'rooms', 'proptax']])\n",
    "x_restricted = sm.add_constant(df[['crime', 'rooms']])\n",
    "\n",
    "y_unrestricted = df['lprice']\n",
    "y_restricted = df['lprice'] + 500 * df['nox'] + 100 * df['proptax']\n",
    "\n",
    "model_unrestricted = sm.OLS(y_unrestricted, x_unrestricted)\n",
    "model_restricted = sm.OLS(y_restricted, x_restricted)\n",
    "\n",
    "results_unrestricted = model_unrestricted.fit()\n",
    "results_restricted = model_restricted.fit()\n",
    "\n",
    "# Hypothesis test:\n",
    "SSR_unrestricted = results_unrestricted.ssr\n",
    "SSR_restricted = results_restricted.ssr\n",
    "\n",
    "k_unrestricted = x_unrestricted.shape[1] - 1\n",
    "k_restricted = x_restricted.shape[1] - 1\n",
    "\n",
    "q = k_unrestricted - k_restricted  # numerator degrees of freedom\n",
    "\n",
    "n = len(y)\n",
    "ddf = n - k_unrestricted - 1  # denominator degrees of freedom\n",
    "\n",
    "F_statistic = ((SSR_restricted - SSR_unrestricted) / q) / \\\n",
    "    (SSR_unrestricted / ddf)\n",
    "\n",
    "\n",
    "alpha = 0.10  # 10% significance level\n",
    "critical_value = f.ppf(1 - alpha, q, ddf)\n",
    "\n",
    "print(f'F Statistic: {F_statistic}')\n",
    "print(f'Critical Value: {critical_value}')\n",
    "\n",
    "if F_statistic > critical_value:\n",
    "    print('Reject the null hypothesis')\n",
    "else:\n",
    "    print('Fail to reject the null hypothesis')"
   ]
  },
  {
   "cell_type": "markdown",
   "metadata": {},
   "source": [
    "**17. In the specification of question 10, test the hypothesis $H_0: \\beta_{\\text{nox}} + \\beta_{\\text{proptax}} = -1000$ at the 10% level using the p-value of the test**"
   ]
  },
  {
   "cell_type": "code",
   "execution_count": 53,
   "metadata": {},
   "outputs": [
    {
     "name": "stdout",
     "output_type": "stream",
     "text": [
      "Critical value: -1.6479068539295052\n",
      "t-stat: 665984.3136755038\n",
      "We reject the null hypothesis at the 10.0 % level.\n"
     ]
    }
   ],
   "source": [
    "# Model: \n",
    "# lprice = beta0 + beta1 * crime + beta2 * nox + beta3 * rooms + beta4 * proptax + u\n",
    "# theta = beta1 + beta4\n",
    "# H0: theta = -1000\n",
    "# H1: theta != -1000\n",
    "# \n",
    "# beta1 =  theta - beta4\n",
    "# lprice = beta0 + (theta - beta4) * crime + beta2 * nox + beta3 * rooms + beta4 * proptax + u\n",
    "# lprice = beta0 + theta * crime + beta2 * nox + beta3 * rooms + beta4 * (crime - proptax) + u\n",
    "\n",
    "# Creating new variable: \n",
    "# crime_tax = crime + proptax\n",
    "\n",
    "X = df[['crime', 'nox', 'rooms']].copy()\n",
    "X['crime_tax'] = X['crime'] - df['proptax']\n",
    "X = sm.add_constant(X)\n",
    "\n",
    "y = df['lprice']\n",
    "\n",
    "model = sm.OLS(y, X)\n",
    "results14 = model.fit()\n",
    "\n",
    "# Hypothesis test:\n",
    "# H0: b_j = a_j  => theta = -1000\n",
    "# t = (b_j - a_j)   / se(b_j)\n",
    "# t = (theta + 1000) / se(theta)\n",
    "\n",
    "beta_1 = results14.params['crime']\n",
    "t_stat = (beta_1 + 1000) / results14.bse['crime']\n",
    "\n",
    "alpha = 0.1\n",
    "ndf = len(y) - len(results14.params) - 1 # number of degrees of freedom\n",
    "critical_value = t.ppf(alpha/2, df=ndf) # two sided \n",
    "\n",
    "print('Critical value:', critical_value)\n",
    "print('t-stat:', t_stat)\n",
    "\n",
    "if abs(t_stat) > critical_value:\n",
    "  print(\"We reject the null hypothesis at the\", alpha*100, \"% level.\")\n",
    "else:\n",
    "  print(\"We do not reject the null hypothesis at the\", alpha*100, \"% level.\")\n"
   ]
  },
  {
   "cell_type": "markdown",
   "metadata": {},
   "source": [
    "**18. In the specification of question 10, test the hypothesis that all coefficients are the same for observations with low levels of nox vs. medium and high levels of nox.**"
   ]
  },
  {
   "cell_type": "code",
   "execution_count": 54,
   "metadata": {},
   "outputs": [
    {
     "name": "stdout",
     "output_type": "stream",
     "text": [
      "F Statistic: 37988.17576773106\n",
      "Critical Value: 1.9561124604463698\n",
      "Reject the null hypothesis\n"
     ]
    }
   ],
   "source": [
    "# Test that all coefficients are the same for observations with low leves of nox x medium levels of nox and high levels of nox\n",
    "\n",
    "# First step: estimate the coefficient for low levels of nox\n",
    "x_unrestricted = df[df['nox_level'] == 'low'][[\n",
    "    'crime', 'nox', 'rooms', 'proptax']]\n",
    "x_unrestricted = sm.add_constant(x_unrestricted)\n",
    "\n",
    "y_unrestricted = df[df['nox_level'] == 'low']['lprice']\n",
    "\n",
    "model = sm.OLS(y_unrestricted, x_unrestricted)\n",
    "results_unrestricted = model.fit()\n",
    "\n",
    "# Now we know the coefficients and we can make the hypothesis test for medium and high levels of nox\n",
    "# H_0: b_i_low = b_i_high_medium \\forall i\n",
    "# H_1: b_i_low != b_i_high_medium \\exists i\n",
    "\n",
    "# Unrestricted model:\n",
    "# lprice = beta0 + beta1 * crime + beta2 * nox + beta3 * rooms + beta4 * proptax + u\n",
    "#\n",
    "# Restricted model:\n",
    "# lprice - beta1 * crime - beta2 * nox - beta3 * rooms - beta4 * proptax + = beta0 + u\n",
    "# where beta_n is the result of the unrestricted model\n",
    "\n",
    "\n",
    "x_medium_high = df[df['nox_level'] != 'low'][[\n",
    "    'crime', 'nox', 'rooms', 'proptax']]\n",
    "y_medium_high = df[df['nox_level'] != 'low']['lprice']\n",
    "\n",
    "x_restricted = sm.add_constant(x_medium_high)[\n",
    "    ['const']]  # Only the constant goes here\n",
    "y_restricted = y_medium_high - results_unrestricted.params['crime'] * x_medium_high['crime'] \\\n",
    "    - results_unrestricted.params['nox'] * x_medium_high['nox']\\\n",
    "    - results_unrestricted.params['rooms'] * x_medium_high['rooms'] \\\n",
    "    - results_unrestricted.params['proptax'] * x_medium_high['proptax']\n",
    "\n",
    "model_restricted = sm.OLS(y_restricted, x_restricted)\n",
    "results_restricted = model_restricted.fit()\n",
    "\n",
    "# Hypothesis test:\n",
    "SSR_unrestricted = results_unrestricted.ssr\n",
    "SSR_restricted = results_restricted.ssr\n",
    "\n",
    "k_unrestricted = x_unrestricted.shape[1] - 1\n",
    "k_restricted = x_restricted.shape[1] - 1\n",
    "\n",
    "q = k_unrestricted - k_restricted  # numerator degrees of freedom\n",
    "\n",
    "n = len(y)\n",
    "ddf = n - k_unrestricted - 1  # denominator degrees of freedom\n",
    "\n",
    "F_statistic = ((SSR_restricted - SSR_unrestricted) / q) / \\\n",
    "    (SSR_unrestricted / ddf)\n",
    "\n",
    "\n",
    "alpha = 0.10  # 10% significance level\n",
    "critical_value = f.ppf(1 - alpha, q, ddf)\n",
    "\n",
    "print(f'F Statistic: {F_statistic}')\n",
    "print(f'Critical Value: {critical_value}')\n",
    "\n",
    "if F_statistic > critical_value:\n",
    "    print('Reject the null hypothesis')\n",
    "else:\n",
    "    print('Fail to reject the null hypothesis')"
   ]
  },
  {
   "cell_type": "markdown",
   "metadata": {},
   "source": [
    "**19. Repeat the test of question 18 but now assuming that only the coefficients of nox and\n",
    "proptax can change between the two groups of observations. State and test $H_0$.**"
   ]
  },
  {
   "cell_type": "code",
   "execution_count": 55,
   "metadata": {},
   "outputs": [
    {
     "name": "stdout",
     "output_type": "stream",
     "text": [
      "F Statistic: 6926.010531682471\n",
      "Critical Value: 2.3132002236303255\n",
      "Reject the null hypothesis\n"
     ]
    }
   ],
   "source": [
    "#\n",
    "# Now we know the coefficients and we can make the hypothesis test for medium and high levels of nox\n",
    "# H_0: b_i_low = b_i_high_medium \\forall i in {2,4}\n",
    "# H_1: b_i_low != b_i_high_medium \\exists i in {2,4}\n",
    "\n",
    "# Unrestricted model:\n",
    "# lprice = beta0 + beta1 * crime + beta2 * nox + beta3 * rooms + beta4 * proptax + u\n",
    "#\n",
    "# Restricted model:\n",
    "# lprice - beta2 * nox - beta4 * proptax = beta0 + beta1 * crime + beta3 * rooms + u\n",
    "# where beta_2 and beta_4 are the result of the unrestricted model\n",
    "\n",
    "# First step: estimate the coefficient for low levels of nox\n",
    "x_unrestricted = df[df['nox_level'] == 'low'][[\n",
    "    'crime', 'nox', 'rooms', 'proptax']]\n",
    "x_unrestricted = sm.add_constant(x_unrestricted)\n",
    "\n",
    "y_unrestricted = df[df['nox_level'] == 'low']['lprice']\n",
    "\n",
    "model = sm.OLS(y_unrestricted, x_unrestricted)\n",
    "results_unrestricted = model.fit()\n",
    "\n",
    "# Second step: estimate the restricted model for medium and high levels of nox\n",
    "\n",
    "x_medium_high = df[df['nox_level'] != 'low'][[\n",
    "    'crime', 'nox', 'rooms', 'proptax']]\n",
    "x_restricted = x_medium_high[['crime', 'rooms']]\n",
    "x_restricted = sm.add_constant(x_restricted)\n",
    "\n",
    "y_medium_high = df[df['nox_level'] != 'low']['lprice']\n",
    "y_restricted = y_medium_high - results_unrestricted.params['nox'] * x_medium_high['nox']\\\n",
    "    - results_unrestricted.params['proptax'] * x_medium_high['proptax']\n",
    "\n",
    "model_restricted = sm.OLS(y_restricted, x_restricted)\n",
    "results_restricted = model_restricted.fit()\n",
    "\n",
    "# Hypothesis test:\n",
    "SSR_unrestricted = results_unrestricted.ssr\n",
    "SSR_restricted = results_restricted.ssr\n",
    "\n",
    "k_unrestricted = x_unrestricted.shape[1] - 1\n",
    "k_restricted = x_restricted.shape[1] - 1\n",
    "\n",
    "q = k_unrestricted - k_restricted  # numerator degrees of freedom\n",
    "\n",
    "n = len(y)\n",
    "ddf = n - k_unrestricted - 1  # denominator degrees of freedom\n",
    "\n",
    "F_statistic = ((SSR_restricted - SSR_unrestricted) / q) / \\\n",
    "    (SSR_unrestricted / ddf)\n",
    "\n",
    "\n",
    "alpha = 0.10  # 10% significance level\n",
    "critical_value = f.ppf(1 - alpha, q, ddf)\n",
    "\n",
    "print(f'F Statistic: {F_statistic}')\n",
    "print(f'Critical Value: {critical_value}')\n",
    "\n",
    "if F_statistic > critical_value:\n",
    "    print('Reject the null hypothesis')\n",
    "else:\n",
    "    print('Fail to reject the null hypothesis')"
   ]
  },
  {
   "cell_type": "markdown",
   "metadata": {},
   "source": [
    "#### PART 2 - HETEROSKEDASTICITY"
   ]
  },
  {
   "cell_type": "markdown",
   "metadata": {},
   "source": [
    "**20. Explain the problem of heteroskedasticity with an example of the course.**"
   ]
  },
  {
   "cell_type": "markdown",
   "metadata": {},
   "source": [
    "The Heteroskedasticity problem arises when $Var(u|x)$ depends on $x$, indicating nonconstant variance. Since $Var(u|x) = Var(y|x)$, heteroskedasticity is present whenever $Var(y|x)$ is a function of $x$.\n",
    "\n",
    "We can visualize this problem with the example provided in the course, where we examine the relationship between education and wage. If, when creating the model, we assume homoskedasticity—that is, the variance of the error term is constant across all levels of education—we will encounter a problem. This is because when we analyze the real world, we can imagine that when a person has a higher education level, they will have more and distinct opportunities for work, and therefore, their wage will be more variable. On the other hand, a person with a lower education level will have fewer opportunities for work, and therefore, their wage will be less variable.\n",
    "\n",
    "Therefore, we can conclude that if we assume homoskedasticity, we will introduce bias into our model."
   ]
  },
  {
   "cell_type": "markdown",
   "metadata": {},
   "source": [
    "**21. Suppose that $E(u u') = \\sigma^2\\Omega$. Show that the GLS estimator is the best linear unbiased estimator.**"
   ]
  },
  {
   "cell_type": "markdown",
   "metadata": {},
   "source": [
    "Lets start by defining $\\Omega$:\n",
    "$$\n",
    "\\Omega = \\begin{bmatrix}\n",
    "h_1 & 0 & \\cdots & 0 \\\\\n",
    "0 & h_2 & \\cdots & 0 \\\\\n",
    "\\vdots & \\vdots & \\ddots & \\vdots \\\\\n",
    "0 & 0 & \\cdots & h_n\n",
    "\\end{bmatrix}\n",
    "$$\n",
    "\n",
    "Where $h(\\boldsymbol{x})$ is some function of the explanatory variables that determines the heteroskedasticity. \n",
    "Then, we can define:\n",
    "\n",
    "$$\n",
    "\\sigma_i^2 = Var(u_i| \\boldsymbol{x}_i) = \\sigma^2 h(\\boldsymbol{x}_i) = \\sigma^2 h_i\n",
    "$$\n",
    "Where $\\boldsymbol{x}_i$ is all independent variables for observation $i$.\n",
    "\n",
    "Since variances must be positive, $h_i > 0$ for all possible values of the independent variables.\n",
    "\n",
    "Considering the model which contains heteroskedastic errors:\n",
    "$$\n",
    "y_i = \\beta_0 + \\beta_1 x_{i1} + \\beta_2 x_{i2} + ... + \\beta_{k} x_{ik} + u_i\n",
    "$$\n",
    "Dividing both sides by $\\sqrt{h_i}$, we obtain:\n",
    "$$\n",
    "\\frac{y_i}{\\sqrt{h_i}} = \\frac{\\beta_0}{\\sqrt{h_i}} + \\frac{\\beta_1 x_{i1}}{\\sqrt{h_i}} + \\frac{\\beta_2 x_{i2}}{\\sqrt{h_i}} + ... + \\frac{\\beta_{k} x_{ik}}{\\sqrt{h_i}} + \\frac{u_i}{\\sqrt{h_i}}\n",
    "$$\n",
    "or\n",
    "$$\n",
    "y_i^* = \\beta_0^* + \\beta_1^* x_{i1} + \\beta_2^* x_{i2} + ... + \\beta_{k}^* x_{ik} + u_i^*\n",
    "$$\n",
    "where $y_i^* = \\frac{y_i}{\\sqrt{h_i}}$, $\\beta_j^* = \\frac{\\beta_j}{\\sqrt{h_i}}$ and $u_i^* = \\frac{u_i}{\\sqrt{h_i}}$.\n",
    "\n",
    "\n",
    "$$\n",
    "E \\left( (u_i/h_i)^2 \\right) = E (u_i^2)/h_i^2 = (\\sigma^2h_i)/h_i = \\sigma^2\n",
    "$$\n",
    "\n",
    "So now we have a model that the variance of the error term is constant and we don't have heteroskedasticity. This equation is linear in its parameters. Further, $u^*$ has a zero mean and a constant variance $\\sigma^2$, conditional on $x^*$. This means that if the original equation satisfies the first four Gauss-Markov assumptions, then this transformed equation satisfies all five Gauss-Markov assumptions. Also, if $u_i$ has a normal distribution, then $u^*$ has a normal distribution with variance $\\sigma^2$. Therefore, the transformed equation satisfies the classical linear model assumptions.\n",
    "\n",
    "\n",
    "\n",
    "\n",
    "\n",
    "\n"
   ]
  },
  {
   "cell_type": "markdown",
   "metadata": {},
   "source": [
    "**22.  In the specification of question 9, test the hypothesis of no heteroskedasticity of linear form, i.e. in the regression of $u^2$ on constant, crime, nox, rooms, proptax, test $H_0: \\delta_{\\text{crime}}, \\delta_{\\text{nox}}, \\delta_{\\text{rooms}}, \\delta_{\\text{proptax}} = 0$, where the coefficients $\\delta_k$ (k = crime, nox, rooms, proptax) are associated with the corresponding explanatory variables.**\n"
   ]
  },
  {
   "cell_type": "code",
   "execution_count": 56,
   "metadata": {},
   "outputs": [
    {
     "name": "stdout",
     "output_type": "stream",
     "text": [
      "critical_value =  1.9561124604463698\n",
      "f_statistic =  6.798893253091291\n",
      "We reject the null hypothesis at the 1% level.\n"
     ]
    }
   ],
   "source": [
    "x_22 = df[['crime', 'nox', 'rooms', 'proptax']]\n",
    "x_22 = sm.add_constant(x_22)\n",
    "\n",
    "u = results9.resid\n",
    "u2 = u**2\n",
    "y_22 = u2\n",
    "model = sm.OLS(y_22, x_22)\n",
    "results22 = model.fit()\n",
    "\n",
    "f_statistic = results22.fvalue\n",
    "\n",
    "alpha = 0.1\n",
    "k = len(results22.params) - 1\n",
    "n = len(y_22)\n",
    "ddf = n - k - 1\n",
    "\n",
    "critical_value = f.ppf(1 - alpha, dfn=k, dfd=ddf)\n",
    "\n",
    "print('critical_value = ', critical_value)\n",
    "print('f_statistic = ', f_statistic)\n",
    "\n",
    "if (f_statistic > critical_value):\n",
    "    print(\"We reject the null hypothesis at the 1% level.\")\n",
    "else:\n",
    "    print(\"We do not reject the null hypothesis at the 1% level.\")"
   ]
  },
  {
   "cell_type": "markdown",
   "metadata": {},
   "source": [
    "**23. In the specification of question 10, test the hypothesis of no heteroskedasticity of linear form**\n"
   ]
  },
  {
   "cell_type": "code",
   "execution_count": 57,
   "metadata": {},
   "outputs": [
    {
     "name": "stdout",
     "output_type": "stream",
     "text": [
      "critical_value =  1.9561124604463698\n",
      "f_statistic =  17.97638257131299\n",
      "We reject the null hypothesis at the 1% level.\n"
     ]
    }
   ],
   "source": [
    "X = df[['crime', 'nox', 'rooms', 'proptax']]\n",
    "\n",
    "X = sm.add_constant(X)\n",
    "\n",
    "u = results10.resid\n",
    "u2 = u**2\n",
    "y = u2\n",
    "model = sm.OLS(y, X)\n",
    "results = model.fit()\n",
    "\n",
    "f_statistic = results.fvalue\n",
    "\n",
    "alpha = 0.1\n",
    "k = len(results.params) - 1\n",
    "n = len(y)\n",
    "ddf = n - k - 1\n",
    "\n",
    "critical_value = f.ppf(1 - alpha, dfn=k, dfd=ddf)\n",
    "\n",
    "print('critical_value = ', critical_value)\n",
    "print('f_statistic = ', f_statistic)\n",
    "\n",
    "if (f_statistic > critical_value):\n",
    "    print(\"We reject the null hypothesis at the 1% level.\")\n",
    "else:\n",
    "    print(\"We do not reject the null hypothesis at the 1% level.\")"
   ]
  },
  {
   "cell_type": "markdown",
   "metadata": {},
   "source": [
    "**24. In the specification of question 11, test the hypothesis of no heteroskedasticity of linear form**\n"
   ]
  },
  {
   "cell_type": "code",
   "execution_count": 58,
   "metadata": {},
   "outputs": [
    {
     "name": "stdout",
     "output_type": "stream",
     "text": [
      "critical_value =  1.9561124604463698\n",
      "f_statistic =  18.273266849414032\n",
      "We reject the null hypothesis at the 1% level.\n"
     ]
    }
   ],
   "source": [
    "X = df[['crime', 'nox', 'rooms', 'proptax']]\n",
    "\n",
    "X = sm.add_constant(X)\n",
    "\n",
    "u = results11.resid\n",
    "u2 = u**2\n",
    "y = u2\n",
    "model = sm.OLS(y, X)\n",
    "results = model.fit()\n",
    "\n",
    "f_statistic = results.fvalue\n",
    "\n",
    "alpha = 0.1\n",
    "k = len(results.params) - 1\n",
    "n = len(y)\n",
    "ddf = n - k - 1\n",
    "\n",
    "critical_value = f.ppf(1 - alpha, dfn=k, dfd=ddf)\n",
    "\n",
    "print('critical_value = ', critical_value)\n",
    "print('f_statistic = ', f_statistic)\n",
    "\n",
    "if (f_statistic > critical_value):\n",
    "    print(\"We reject the null hypothesis at the 1% level.\")\n",
    "else:\n",
    "    print(\"We do not reject the null hypothesis at the 1% level.\")"
   ]
  },
  {
   "cell_type": "markdown",
   "metadata": {},
   "source": [
    "  **25. Comment on the differences between your results of questions 22,23, 24.**\n"
   ]
  },
  {
   "cell_type": "markdown",
   "metadata": {},
   "source": [
    "In all three tests, the null hypothesis is rejected, indicating the presence of heteroskedasticity. However, an increase in the F-statistic is noticeable when comparing the tests. In the first test, the F-value is 6.799; in the second, F is 19.98; and in the third, F is 18.27. The increment in the F-value is noteworthy because as it increases, it moves further away from the critical value, which remains constant at 1.95 for all tests. Therefore, it can be concluded that as the F-value rises, we gain more certainty about the presence of heteroskedasticity."
   ]
  },
  {
   "cell_type": "markdown",
   "metadata": {},
   "source": [
    "**26. Regardless of the results of the test of question 22, identify the most significant variable causing heteroskedasticity using the student statistics and run a WLS regression with the identified variable as weight.**"
   ]
  },
  {
   "cell_type": "code",
   "execution_count": 59,
   "metadata": {},
   "outputs": [
    {
     "name": "stdout",
     "output_type": "stream",
     "text": [
      "==================================================\n",
      "Variables causing heteroskedasticity:\n",
      "proptax: p-value = 9.65606596552974e-05\n",
      "==================================================\n",
      "                            WLS Regression Results                            \n",
      "==============================================================================\n",
      "Dep. Variable:                  price   R-squared:                       0.894\n",
      "Model:                            WLS   Adj. R-squared:                  0.893\n",
      "Method:                 Least Squares   F-statistic:                     1053.\n",
      "Date:                Sun, 10 Dec 2023   Prob (F-statistic):          3.07e-242\n",
      "Time:                        21:12:21   Log-Likelihood:                -5452.0\n",
      "No. Observations:                 506   AIC:                         1.091e+04\n",
      "Df Residuals:                     501   BIC:                         1.094e+04\n",
      "Df Model:                           4                                         \n",
      "Covariance Type:            nonrobust                                         \n",
      "==============================================================================\n",
      "                 coef    std err          t      P>|t|      [0.025      0.975]\n",
      "------------------------------------------------------------------------------\n",
      "const      -3.873e+04   3149.413    -12.298      0.000   -4.49e+04   -3.25e+04\n",
      "crime        -36.1779     34.219     -1.057      0.291    -103.408      31.052\n",
      "nox         -846.2803    351.559     -2.407      0.016   -1536.992    -155.569\n",
      "rooms       1.259e+04    251.312     50.089      0.000    1.21e+04    1.31e+04\n",
      "proptax     -416.4125     41.027    -10.150      0.000    -497.019    -335.806\n",
      "==============================================================================\n",
      "Omnibus:                      199.497   Durbin-Watson:                   1.810\n",
      "Prob(Omnibus):                  0.000   Jarque-Bera (JB):            16113.025\n",
      "Skew:                           0.755   Prob(JB):                         0.00\n",
      "Kurtosis:                      30.604   Cond. No.                     1.01e+03\n",
      "==============================================================================\n",
      "\n",
      "Notes:\n",
      "[1] Standard Errors assume that the covariance matrix of the errors is correctly specified.\n",
      "[2] The smallest eigenvalue is 2.19e-14. This might indicate that there are\n",
      "strong multicollinearity problems or that the design matrix is singular.\n"
     ]
    }
   ],
   "source": [
    "# Considering alpha = 0.1:\n",
    "\n",
    "alpha = 0.1\n",
    "print('='*50)\n",
    "print('Variables causing heteroskedasticity:')\n",
    "for i, coef in enumerate(results22.params.index):\n",
    "  p_value = results22.pvalues[i]\n",
    "  if p_value < alpha:\n",
    "    print(f\"{coef}: p-value = {p_value}\")\n",
    "print('='*50)\n",
    "\n",
    "weights = 1/(results22.fittedvalues**2)\n",
    "\n",
    "wls_model = sm.WLS(y_9,x_22, weights=weights)\n",
    "wls_results = wls_model.fit()\n",
    "\n",
    "print(wls_results.summary())"
   ]
  },
  {
   "cell_type": "code",
   "execution_count": 60,
   "metadata": {},
   "outputs": [
    {
     "name": "stdout",
     "output_type": "stream",
     "text": [
      "                            OLS Regression Results                            \n",
      "==============================================================================\n",
      "Dep. Variable:                  price   R-squared:                       0.575\n",
      "Model:                            OLS   Adj. R-squared:                  0.572\n",
      "Method:                 Least Squares   F-statistic:                     169.6\n",
      "Date:                Sun, 10 Dec 2023   Prob (F-statistic):           1.06e-91\n",
      "Time:                        21:12:21   Log-Likelihood:                -5119.6\n",
      "No. Observations:                 506   AIC:                         1.025e+04\n",
      "Df Residuals:                     501   BIC:                         1.027e+04\n",
      "Df Model:                           4                                         \n",
      "Covariance Type:            nonrobust                                         \n",
      "==============================================================================\n",
      "                 coef    std err          t      P>|t|      [0.025      0.975]\n",
      "------------------------------------------------------------------------------\n",
      "const      -1.868e+04   3215.205     -5.811      0.000    -2.5e+04   -1.24e+04\n",
      "crime       -136.5438     38.529     -3.544      0.000    -212.241     -60.846\n",
      "nox         -660.4672    314.634     -2.099      0.036   -1278.632     -42.303\n",
      "rooms       7797.9286    404.345     19.285      0.000    7003.507    8592.350\n",
      "proptax      -89.4144     23.966     -3.731      0.000    -136.500     -42.329\n",
      "==============================================================================\n",
      "Omnibus:                      264.796   Durbin-Watson:                   0.752\n",
      "Prob(Omnibus):                  0.000   Jarque-Bera (JB):             2348.397\n",
      "Skew:                           2.111   Prob(JB):                         0.00\n",
      "Kurtosis:                      12.673   Cond. No.                         546.\n",
      "==============================================================================\n",
      "\n",
      "Notes:\n",
      "[1] Standard Errors assume that the covariance matrix of the errors is correctly specified.\n"
     ]
    }
   ],
   "source": [
    "print(results9.summary())"
   ]
  },
  {
   "cell_type": "markdown",
   "metadata": {},
   "source": [
    "We can see an improvement in the R-squared value when we use the WLS regression. This indicates that the model fits better when we use the weights."
   ]
  },
  {
   "cell_type": "markdown",
   "metadata": {},
   "source": [
    "---\n",
    "\n",
    "#### PART 3 - TIMES SERIES DATA\n",
    "\n",
    "**This part uses the threecenturies_v2.3 datasets. Import Real GDP at market prices, unemployment\n",
    "rate and consumer price inflation for the period 1900-2000 in Python from the A1 worksheet.**"
   ]
  },
  {
   "cell_type": "code",
   "execution_count": 61,
   "metadata": {},
   "outputs": [
    {
     "data": {
      "text/html": [
       "<div>\n",
       "<style scoped>\n",
       "    .dataframe tbody tr th:only-of-type {\n",
       "        vertical-align: middle;\n",
       "    }\n",
       "\n",
       "    .dataframe tbody tr th {\n",
       "        vertical-align: top;\n",
       "    }\n",
       "\n",
       "    .dataframe thead th {\n",
       "        text-align: right;\n",
       "    }\n",
       "</style>\n",
       "<table border=\"1\" class=\"dataframe\">\n",
       "  <thead>\n",
       "    <tr style=\"text-align: right;\">\n",
       "      <th></th>\n",
       "      <th>Year</th>\n",
       "      <th>Real GDP</th>\n",
       "      <th>Unemployment Rate</th>\n",
       "      <th>Inflation</th>\n",
       "    </tr>\n",
       "  </thead>\n",
       "  <tbody>\n",
       "    <tr>\n",
       "      <th>0</th>\n",
       "      <td>1900</td>\n",
       "      <td>181160.264436</td>\n",
       "      <td>3.679865</td>\n",
       "      <td>4.058273</td>\n",
       "    </tr>\n",
       "    <tr>\n",
       "      <th>1</th>\n",
       "      <td>1901</td>\n",
       "      <td>184974.529384</td>\n",
       "      <td>4.877351</td>\n",
       "      <td>-0.3</td>\n",
       "    </tr>\n",
       "    <tr>\n",
       "      <th>2</th>\n",
       "      <td>1902</td>\n",
       "      <td>187756.550527</td>\n",
       "      <td>5.145694</td>\n",
       "      <td>0</td>\n",
       "    </tr>\n",
       "    <tr>\n",
       "      <th>3</th>\n",
       "      <td>1903</td>\n",
       "      <td>186015.76815</td>\n",
       "      <td>5.603507</td>\n",
       "      <td>1.10331</td>\n",
       "    </tr>\n",
       "    <tr>\n",
       "      <th>4</th>\n",
       "      <td>1904</td>\n",
       "      <td>188155.559259</td>\n",
       "      <td>6.914821</td>\n",
       "      <td>-0.396825</td>\n",
       "    </tr>\n",
       "    <tr>\n",
       "      <th>...</th>\n",
       "      <td>...</td>\n",
       "      <td>...</td>\n",
       "      <td>...</td>\n",
       "      <td>...</td>\n",
       "    </tr>\n",
       "    <tr>\n",
       "      <th>96</th>\n",
       "      <td>1996</td>\n",
       "      <td>1243709</td>\n",
       "      <td>8.097052</td>\n",
       "      <td>2.400308</td>\n",
       "    </tr>\n",
       "    <tr>\n",
       "      <th>97</th>\n",
       "      <td>1997</td>\n",
       "      <td>1282602</td>\n",
       "      <td>6.972014</td>\n",
       "      <td>1.824606</td>\n",
       "    </tr>\n",
       "    <tr>\n",
       "      <th>98</th>\n",
       "      <td>1998</td>\n",
       "      <td>1323527</td>\n",
       "      <td>6.255467</td>\n",
       "      <td>1.557398</td>\n",
       "    </tr>\n",
       "    <tr>\n",
       "      <th>99</th>\n",
       "      <td>1999</td>\n",
       "      <td>1366983</td>\n",
       "      <td>5.976813</td>\n",
       "      <td>1.32871</td>\n",
       "    </tr>\n",
       "    <tr>\n",
       "      <th>100</th>\n",
       "      <td>2000</td>\n",
       "      <td>1418176</td>\n",
       "      <td>5.459049</td>\n",
       "      <td>0.796456</td>\n",
       "    </tr>\n",
       "  </tbody>\n",
       "</table>\n",
       "<p>101 rows × 4 columns</p>\n",
       "</div>"
      ],
      "text/plain": [
       "     Year       Real GDP Unemployment Rate Inflation\n",
       "0    1900  181160.264436          3.679865  4.058273\n",
       "1    1901  184974.529384          4.877351      -0.3\n",
       "2    1902  187756.550527          5.145694         0\n",
       "3    1903   186015.76815          5.603507   1.10331\n",
       "4    1904  188155.559259          6.914821 -0.396825\n",
       "..    ...            ...               ...       ...\n",
       "96   1996        1243709          8.097052  2.400308\n",
       "97   1997        1282602          6.972014  1.824606\n",
       "98   1998        1323527          6.255467  1.557398\n",
       "99   1999        1366983          5.976813   1.32871\n",
       "100  2000        1418176          5.459049  0.796456\n",
       "\n",
       "[101 rows x 4 columns]"
      ]
     },
     "execution_count": 61,
     "metadata": {},
     "output_type": "execute_result"
    }
   ],
   "source": [
    "df3 = pd.read_excel('threecenturies_v2.3.xlsx', sheet_name='A1. Headline series', header=3)\n",
    "\n",
    "df3 = df3.drop(df3.index[:3]).reset_index(drop=True)\n",
    "\n",
    "df3 = df3[['Description', 'Real GDP at market prices', 'Unemployment rate', 'Consumer price inflation']]\n",
    "\n",
    "df3.columns = ['Year', 'Real GDP', 'Unemployment Rate', 'Inflation']\n",
    "\n",
    "df3 = df3[(df3['Year'] >= 1900) & (df3['Year'] <= 2000)].reset_index(drop=True)\n",
    "\n",
    "df3\n"
   ]
  },
  {
   "cell_type": "markdown",
   "metadata": {},
   "source": [
    "**27. Define strict and weak stationarity.**"
   ]
  },
  {
   "cell_type": "markdown",
   "metadata": {},
   "source": [
    "Stationarity in time series refers to a condition where a set of statistical properties remains constant over time. There are two concepts within stationarity: weak stationarity and strict stationarity.\n",
    "\n",
    "Weak stationarity requires that only the mean and the variance remain constant over time and that the covariance between two time points only depends on the lag between the time points and not on the specific points in time, while the strict stationarity requires that the entire joint distribution  remains invariant over time."
   ]
  },
  {
   "cell_type": "markdown",
   "metadata": {},
   "source": [
    "**28. Explain ergodicity and state the ergodic theorem. Illustrate with an example.**"
   ]
  },
  {
   "cell_type": "markdown",
   "metadata": {},
   "source": [
    "Ergodicity referes to the property of a process where it forgets its initial condition and its long-term behavior becomes independent of its initial conditions.\n",
    "\n",
    "The ergodic theorem states that the temporal average converges to the spatial average (the expectation) if a process is both stationary and ergodic.\n",
    "\n",
    "An example of an ergodic process is flipping a fair coin multiple times over time. Due to its two sides, the long-term average aligns with the theoretical probability. "
   ]
  },
  {
   "cell_type": "markdown",
   "metadata": {},
   "source": [
    "**29. Why do we need both stationarity and ergodicity?**"
   ]
  },
  {
   "cell_type": "markdown",
   "metadata": {},
   "source": [
    "As the ergodic theorem states, if a process is both stationary and ergodic, we can estimate its statistical properties accurately without needind to know its initial conditions."
   ]
  },
  {
   "cell_type": "markdown",
   "metadata": {},
   "source": [
    "**30. Explain “spurious regression”.**"
   ]
  },
  {
   "cell_type": "markdown",
   "metadata": {},
   "source": [
    "Spurious regression is a statistical issue where regression analysis falsely suggests a relationship between unrelated time series processes. This can result in incorrect assumptions about causal relationships between these processes when, in fact, there is none."
   ]
  },
  {
   "cell_type": "markdown",
   "metadata": {},
   "source": [
    "**31. Define a moving average and explain the trade-off involved in the choice of the size of the\n",
    "window and of whether to center or not the moving average.**"
   ]
  },
  {
   "cell_type": "markdown",
   "metadata": {},
   "source": [
    "The moving average is a statistical technique employed for temporal data analysis, smoothing random fluctuations and accentuating significant trends or patterns. It involves averaging a series of consecutive observations within a sliding window.\n",
    "\n",
    "The choice of the window size introduces a trade-off. A smaller window can capture short-term variations but may be sensitive to random fluctuations. On the other hand, a larger window smoothens more fluctuations but may overlook crucial short-term details and could be slower to adapt to changes.\n",
    "\n",
    "Similarly, the decision to center or not the moving average presents another trade-off. Centering entails calculating the average in the middle of the window, reducing lag in trend change detection but potentially introducing a lagging effect in representing the current trend. Opting for a non-centered moving average means calculating the average at the window's end, resulting in a swifter response to changes but potentially introducing more lag in representing the central trend."
   ]
  },
  {
   "cell_type": "markdown",
   "metadata": {},
   "source": [
    "**32. Make all time series stationary by computing the difference between the original variable\n",
    "and a moving average of order 10.**"
   ]
  },
  {
   "cell_type": "code",
   "execution_count": 62,
   "metadata": {},
   "outputs": [
    {
     "data": {
      "text/html": [
       "<div>\n",
       "<style scoped>\n",
       "    .dataframe tbody tr th:only-of-type {\n",
       "        vertical-align: middle;\n",
       "    }\n",
       "\n",
       "    .dataframe tbody tr th {\n",
       "        vertical-align: top;\n",
       "    }\n",
       "\n",
       "    .dataframe thead th {\n",
       "        text-align: right;\n",
       "    }\n",
       "</style>\n",
       "<table border=\"1\" class=\"dataframe\">\n",
       "  <thead>\n",
       "    <tr style=\"text-align: right;\">\n",
       "      <th></th>\n",
       "      <th>Year</th>\n",
       "      <th>Real GDP</th>\n",
       "      <th>Unemployment Rate</th>\n",
       "      <th>Inflation</th>\n",
       "    </tr>\n",
       "  </thead>\n",
       "  <tbody>\n",
       "    <tr>\n",
       "      <th>0</th>\n",
       "      <td>1900</td>\n",
       "      <td>0.0</td>\n",
       "      <td>0.000000</td>\n",
       "      <td>0.000000</td>\n",
       "    </tr>\n",
       "    <tr>\n",
       "      <th>1</th>\n",
       "      <td>1901</td>\n",
       "      <td>0.0</td>\n",
       "      <td>0.000000</td>\n",
       "      <td>0.000000</td>\n",
       "    </tr>\n",
       "    <tr>\n",
       "      <th>2</th>\n",
       "      <td>1902</td>\n",
       "      <td>0.0</td>\n",
       "      <td>0.000000</td>\n",
       "      <td>0.000000</td>\n",
       "    </tr>\n",
       "    <tr>\n",
       "      <th>3</th>\n",
       "      <td>1903</td>\n",
       "      <td>0.0</td>\n",
       "      <td>0.000000</td>\n",
       "      <td>0.000000</td>\n",
       "    </tr>\n",
       "    <tr>\n",
       "      <th>4</th>\n",
       "      <td>1904</td>\n",
       "      <td>0.0</td>\n",
       "      <td>0.000000</td>\n",
       "      <td>0.000000</td>\n",
       "    </tr>\n",
       "    <tr>\n",
       "      <th>...</th>\n",
       "      <td>...</td>\n",
       "      <td>...</td>\n",
       "      <td>...</td>\n",
       "      <td>...</td>\n",
       "    </tr>\n",
       "    <tr>\n",
       "      <th>96</th>\n",
       "      <td>1996</td>\n",
       "      <td>110126.0</td>\n",
       "      <td>-0.771393</td>\n",
       "      <td>-1.650728</td>\n",
       "    </tr>\n",
       "    <tr>\n",
       "      <th>97</th>\n",
       "      <td>1997</td>\n",
       "      <td>123193.4</td>\n",
       "      <td>-1.550303</td>\n",
       "      <td>-2.088396</td>\n",
       "    </tr>\n",
       "    <tr>\n",
       "      <th>98</th>\n",
       "      <td>1998</td>\n",
       "      <td>140128.6</td>\n",
       "      <td>-2.034953</td>\n",
       "      <td>-2.135426</td>\n",
       "    </tr>\n",
       "    <tr>\n",
       "      <th>99</th>\n",
       "      <td>1999</td>\n",
       "      <td>158048.1</td>\n",
       "      <td>-2.189149</td>\n",
       "      <td>-1.973224</td>\n",
       "    </tr>\n",
       "    <tr>\n",
       "      <th>100</th>\n",
       "      <td>2000</td>\n",
       "      <td>179382.2</td>\n",
       "      <td>-2.543027</td>\n",
       "      <td>-1.887856</td>\n",
       "    </tr>\n",
       "  </tbody>\n",
       "</table>\n",
       "<p>101 rows × 4 columns</p>\n",
       "</div>"
      ],
      "text/plain": [
       "     Year  Real GDP  Unemployment Rate  Inflation\n",
       "0    1900       0.0           0.000000   0.000000\n",
       "1    1901       0.0           0.000000   0.000000\n",
       "2    1902       0.0           0.000000   0.000000\n",
       "3    1903       0.0           0.000000   0.000000\n",
       "4    1904       0.0           0.000000   0.000000\n",
       "..    ...       ...                ...        ...\n",
       "96   1996  110126.0          -0.771393  -1.650728\n",
       "97   1997  123193.4          -1.550303  -2.088396\n",
       "98   1998  140128.6          -2.034953  -2.135426\n",
       "99   1999  158048.1          -2.189149  -1.973224\n",
       "100  2000  179382.2          -2.543027  -1.887856\n",
       "\n",
       "[101 rows x 4 columns]"
      ]
     },
     "execution_count": 62,
     "metadata": {},
     "output_type": "execute_result"
    }
   ],
   "source": [
    "stationary10_df3 = df3.copy()\n",
    "window_size = 10\n",
    "\n",
    "for column in stationary10_df3.columns:\n",
    "    if column != 'Year':\n",
    "        stationary10_df3[column] = df3[column] - df3[column].rolling(window_size).mean()\n",
    "\n",
    "stationary10_df3.fillna(0, inplace=True)\n",
    "\n",
    "stationary10_df3"
   ]
  },
  {
   "cell_type": "markdown",
   "metadata": {},
   "source": [
    "**33. Compute the difference between the resulting time series of question 32 and a moving\n",
    "average of order 5. Give the exact formula for the weights after the two transformations.**"
   ]
  },
  {
   "cell_type": "code",
   "execution_count": 81,
   "metadata": {},
   "outputs": [
    {
     "data": {
      "text/html": [
       "<div>\n",
       "<style scoped>\n",
       "    .dataframe tbody tr th:only-of-type {\n",
       "        vertical-align: middle;\n",
       "    }\n",
       "\n",
       "    .dataframe tbody tr th {\n",
       "        vertical-align: top;\n",
       "    }\n",
       "\n",
       "    .dataframe thead th {\n",
       "        text-align: right;\n",
       "    }\n",
       "</style>\n",
       "<table border=\"1\" class=\"dataframe\">\n",
       "  <thead>\n",
       "    <tr style=\"text-align: right;\">\n",
       "      <th></th>\n",
       "      <th>Year</th>\n",
       "      <th>Real GDP</th>\n",
       "      <th>Unemployment Rate</th>\n",
       "      <th>Inflation</th>\n",
       "    </tr>\n",
       "  </thead>\n",
       "  <tbody>\n",
       "    <tr>\n",
       "      <th>0</th>\n",
       "      <td>1900</td>\n",
       "      <td>0.000000</td>\n",
       "      <td>0.000000</td>\n",
       "      <td>0.000000</td>\n",
       "    </tr>\n",
       "    <tr>\n",
       "      <th>1</th>\n",
       "      <td>1901</td>\n",
       "      <td>0.000000</td>\n",
       "      <td>0.000000</td>\n",
       "      <td>0.000000</td>\n",
       "    </tr>\n",
       "    <tr>\n",
       "      <th>2</th>\n",
       "      <td>1902</td>\n",
       "      <td>0.000000</td>\n",
       "      <td>0.000000</td>\n",
       "      <td>0.000000</td>\n",
       "    </tr>\n",
       "    <tr>\n",
       "      <th>3</th>\n",
       "      <td>1903</td>\n",
       "      <td>0.000000</td>\n",
       "      <td>0.000000</td>\n",
       "      <td>0.000000</td>\n",
       "    </tr>\n",
       "    <tr>\n",
       "      <th>4</th>\n",
       "      <td>1904</td>\n",
       "      <td>-2543.024907</td>\n",
       "      <td>-1.670574</td>\n",
       "      <td>1.289777</td>\n",
       "    </tr>\n",
       "    <tr>\n",
       "      <th>...</th>\n",
       "      <td>...</td>\n",
       "      <td>...</td>\n",
       "      <td>...</td>\n",
       "      <td>...</td>\n",
       "    </tr>\n",
       "    <tr>\n",
       "      <th>96</th>\n",
       "      <td>1996</td>\n",
       "      <td>44335.200000</td>\n",
       "      <td>0.439479</td>\n",
       "      <td>-1.290377</td>\n",
       "    </tr>\n",
       "    <tr>\n",
       "      <th>97</th>\n",
       "      <td>1997</td>\n",
       "      <td>52821.400000</td>\n",
       "      <td>0.190024</td>\n",
       "      <td>-1.639731</td>\n",
       "    </tr>\n",
       "    <tr>\n",
       "      <th>98</th>\n",
       "      <td>1998</td>\n",
       "      <td>65757.600000</td>\n",
       "      <td>-0.401936</td>\n",
       "      <td>-1.609372</td>\n",
       "    </tr>\n",
       "    <tr>\n",
       "      <th>99</th>\n",
       "      <td>1999</td>\n",
       "      <td>76988.900000</td>\n",
       "      <td>-0.981335</td>\n",
       "      <td>-1.348440</td>\n",
       "    </tr>\n",
       "    <tr>\n",
       "      <th>100</th>\n",
       "      <td>2000</td>\n",
       "      <td>88205.600000</td>\n",
       "      <td>-1.449997</td>\n",
       "      <td>-1.102816</td>\n",
       "    </tr>\n",
       "  </tbody>\n",
       "</table>\n",
       "<p>101 rows × 4 columns</p>\n",
       "</div>"
      ],
      "text/plain": [
       "     Year      Real GDP  Unemployment Rate  Inflation\n",
       "0    1900      0.000000           0.000000   0.000000\n",
       "1    1901      0.000000           0.000000   0.000000\n",
       "2    1902      0.000000           0.000000   0.000000\n",
       "3    1903      0.000000           0.000000   0.000000\n",
       "4    1904  -2543.024907          -1.670574   1.289777\n",
       "..    ...           ...                ...        ...\n",
       "96   1996  44335.200000           0.439479  -1.290377\n",
       "97   1997  52821.400000           0.190024  -1.639731\n",
       "98   1998  65757.600000          -0.401936  -1.609372\n",
       "99   1999  76988.900000          -0.981335  -1.348440\n",
       "100  2000  88205.600000          -1.449997  -1.102816\n",
       "\n",
       "[101 rows x 4 columns]"
      ]
     },
     "execution_count": 81,
     "metadata": {},
     "output_type": "execute_result"
    }
   ],
   "source": [
    "stationary5_df3 = df3.copy()\n",
    "window_size = 5\n",
    "\n",
    "for column in df3.columns:\n",
    "    if column != 'Year':\n",
    "        stationary5_df3[column] = df3[column] - df3[column].rolling(window_size).mean()\n",
    "\n",
    "stationary5_df3.fillna(0, inplace=True)\n",
    "\n",
    "stationary_diff_df3 = stationary10_df3.copy()\n",
    "\n",
    "for column in stationary_diff_df3.columns:\n",
    "    if column != 'Year':\n",
    "        stationary_diff_df3[column] = stationary10_df3[column] - stationary5_df3[column]\n",
    "\n",
    "stationary_diff_df3"
   ]
  },
  {
   "cell_type": "markdown",
   "metadata": {},
   "source": []
  },
  {
   "cell_type": "markdown",
   "metadata": {},
   "source": [
    "<div style=\"background-color: red; padding: 10px;\">\n",
    "\n",
    "* Responder sobre os weights\n",
    "\n",
    "</div>"
   ]
  },
  {
   "cell_type": "markdown",
   "metadata": {},
   "source": [
    "**34. Using the original dataset, test the unit root hypothesis for all variables.**"
   ]
  },
  {
   "cell_type": "markdown",
   "metadata": {},
   "source": [
    "<div style=\"background-color: red; padding: 10px;\">\n",
    "\n",
    "* Usar a biblioteca ou codar o teste?\n",
    "\n",
    "* Melhorar as conclusões\n",
    "</div>\n"
   ]
  },
  {
   "cell_type": "markdown",
   "metadata": {},
   "source": [
    "The unit root test is used to determine whether a time series dataset is non-stationary or stationary. The most commonly used unit root test is the Dickey-Fuller test, where if the null hypothesis is rejected it suggests that the time series is non-stationary. Conversely, if the null hypothesis is rejected, it indicates that the time series is stationary."
   ]
  },
  {
   "cell_type": "code",
   "execution_count": 79,
   "metadata": {},
   "outputs": [
    {
     "data": {
      "text/html": [
       "<div>\n",
       "<style scoped>\n",
       "    .dataframe tbody tr th:only-of-type {\n",
       "        vertical-align: middle;\n",
       "    }\n",
       "\n",
       "    .dataframe tbody tr th {\n",
       "        vertical-align: top;\n",
       "    }\n",
       "\n",
       "    .dataframe thead th {\n",
       "        text-align: right;\n",
       "    }\n",
       "</style>\n",
       "<table border=\"1\" class=\"dataframe\">\n",
       "  <thead>\n",
       "    <tr style=\"text-align: right;\">\n",
       "      <th></th>\n",
       "      <th>Variable</th>\n",
       "      <th>ADF Statistic</th>\n",
       "      <th>p-value</th>\n",
       "      <th>Reject Null Hypothesis</th>\n",
       "    </tr>\n",
       "  </thead>\n",
       "  <tbody>\n",
       "    <tr>\n",
       "      <th>0</th>\n",
       "      <td>Real GDP</td>\n",
       "      <td>1.611740</td>\n",
       "      <td>1.000000</td>\n",
       "      <td>False</td>\n",
       "    </tr>\n",
       "    <tr>\n",
       "      <th>1</th>\n",
       "      <td>Unemployment Rate</td>\n",
       "      <td>-2.026906</td>\n",
       "      <td>0.586704</td>\n",
       "      <td>False</td>\n",
       "    </tr>\n",
       "    <tr>\n",
       "      <th>2</th>\n",
       "      <td>Inflation</td>\n",
       "      <td>-3.715418</td>\n",
       "      <td>0.021362</td>\n",
       "      <td>False</td>\n",
       "    </tr>\n",
       "  </tbody>\n",
       "</table>\n",
       "</div>"
      ],
      "text/plain": [
       "            Variable  ADF Statistic   p-value  Reject Null Hypothesis\n",
       "0           Real GDP       1.611740  1.000000                   False\n",
       "1  Unemployment Rate      -2.026906  0.586704                   False\n",
       "2          Inflation      -3.715418  0.021362                   False"
      ]
     },
     "execution_count": 79,
     "metadata": {},
     "output_type": "execute_result"
    }
   ],
   "source": [
    "import pandas as pd\n",
    "from statsmodels.tsa.stattools import adfuller\n",
    "\n",
    "\n",
    "results_list = []\n",
    "\n",
    "for column in df3.columns[1:]:\n",
    "    variable = column\n",
    "    adf_result = adfuller(df3[column], maxlag=0, regression='ct', autolag=None)\n",
    "    adf_statistic = adf_result[0]\n",
    "    p_value = adf_result[1]\n",
    "    reject_null_hypothesis = p_value < 0.01\n",
    "\n",
    "    results_list.append({'Variable': variable,\n",
    "                         'ADF Statistic': adf_statistic,\n",
    "                         'p-value': p_value,\n",
    "                         'Reject Null Hypothesis': reject_null_hypothesis})\n",
    "\n",
    "results_table = pd.DataFrame(results_list)\n",
    "\n",
    "results_table"
   ]
  },
  {
   "cell_type": "markdown",
   "metadata": {},
   "source": [
    "The results of the Augmented Dickey-Fuller (ADF) test conducted on the 'Real GDP' data from the original dataset indicate a non-stationary nature of this variable. This inference is drawn from the statistical value obtained, which exceeds all critical values, suggesting a lack of stationarity in the time series.\n",
    "\n",
    "Performing the same test on 'Unemployment Rate', the results also indicate a non-stationary nature of this variable. In this case, again, the statiscal value obtained exceeds all critical values.\n",
    "\n",
    "Differently from the previous results, this one indicates a stationary nature for 'Inflation', since the statistical value obtained is less than all critical values."
   ]
  },
  {
   "cell_type": "markdown",
   "metadata": {},
   "source": [
    "**35. Transform all variables so that they are stationary using either your answers to questions 32-\n",
    "33 or to question 34.**"
   ]
  },
  {
   "cell_type": "code",
   "execution_count": 78,
   "metadata": {},
   "outputs": [
    {
     "data": {
      "text/html": [
       "<div>\n",
       "<style scoped>\n",
       "    .dataframe tbody tr th:only-of-type {\n",
       "        vertical-align: middle;\n",
       "    }\n",
       "\n",
       "    .dataframe tbody tr th {\n",
       "        vertical-align: top;\n",
       "    }\n",
       "\n",
       "    .dataframe thead th {\n",
       "        text-align: right;\n",
       "    }\n",
       "</style>\n",
       "<table border=\"1\" class=\"dataframe\">\n",
       "  <thead>\n",
       "    <tr style=\"text-align: right;\">\n",
       "      <th></th>\n",
       "      <th>Variable</th>\n",
       "      <th>ADF Statistic</th>\n",
       "      <th>p-value</th>\n",
       "      <th>Reject Null Hypothesis</th>\n",
       "    </tr>\n",
       "  </thead>\n",
       "  <tbody>\n",
       "    <tr>\n",
       "      <th>0</th>\n",
       "      <td>Real GDP</td>\n",
       "      <td>-4.612330</td>\n",
       "      <td>1.225763e-04</td>\n",
       "      <td>True</td>\n",
       "    </tr>\n",
       "    <tr>\n",
       "      <th>1</th>\n",
       "      <td>Unemployment Rate</td>\n",
       "      <td>-8.563655</td>\n",
       "      <td>8.561100e-14</td>\n",
       "      <td>True</td>\n",
       "    </tr>\n",
       "    <tr>\n",
       "      <th>2</th>\n",
       "      <td>Inflation</td>\n",
       "      <td>-9.690380</td>\n",
       "      <td>1.140695e-16</td>\n",
       "      <td>True</td>\n",
       "    </tr>\n",
       "  </tbody>\n",
       "</table>\n",
       "</div>"
      ],
      "text/plain": [
       "            Variable  ADF Statistic       p-value  Reject Null Hypothesis\n",
       "0           Real GDP      -4.612330  1.225763e-04                    True\n",
       "1  Unemployment Rate      -8.563655  8.561100e-14                    True\n",
       "2          Inflation      -9.690380  1.140695e-16                    True"
      ]
     },
     "execution_count": 78,
     "metadata": {},
     "output_type": "execute_result"
    }
   ],
   "source": [
    "results_list = []\n",
    "\n",
    "stationary_df = df3.copy().diff().dropna()\n",
    "\n",
    "for column in stationary_df.columns[1:]:\n",
    "    variable = column\n",
    "    adf_result = adfuller(stationary_df[column], maxlag=0, regression='c', autolag=None)\n",
    "    adf_statistic = adf_result[0]\n",
    "    p_value = adf_result[1]\n",
    "    reject_null_hypothesis = p_value < 0.01\n",
    "\n",
    "    results_list.append({'Variable': variable,\n",
    "                         'ADF Statistic': adf_statistic,\n",
    "                         'p-value': p_value,\n",
    "                         'Reject Null Hypothesis': reject_null_hypothesis})\n",
    "\n",
    "results_table = pd.DataFrame(results_list)\n",
    "\n",
    "results_table"
   ]
  },
  {
   "cell_type": "markdown",
   "metadata": {},
   "source": [
    "**36. Explain the difference between ACF and PACF.**"
   ]
  },
  {
   "cell_type": "markdown",
   "metadata": {},
   "source": [
    "ACF and PACF are statistical tools used in time series analysis to identify the patterns in the data.\n",
    "\n",
    "ACF measures the correlation between a time series and its lagged values.\n",
    "It helps in identifying the patterns, such as seasonality or trend, in the data.\n",
    "\n",
    "PACF measures the correlation between a time series and its lagged values, while taking into account the correlation with the intermediate lagged values.\n",
    "It helps in identifying the direct effect of past values on the current value, after removing the indirect effects of the intermediate values."
   ]
  },
  {
   "cell_type": "markdown",
   "metadata": {},
   "source": [
    "**37. Plot and comment on the ACF and PACF of all variables.**"
   ]
  },
  {
   "cell_type": "markdown",
   "metadata": {},
   "source": [
    "<div style=\"background-color: red; padding: 10px;\">\n",
    "\n",
    "* Comentar gráficos\n",
    "\n",
    "</div>"
   ]
  },
  {
   "cell_type": "code",
   "execution_count": 70,
   "metadata": {},
   "outputs": [],
   "source": [
    "from statsmodels.graphics.tsaplots import plot_acf, plot_pacf"
   ]
  },
  {
   "cell_type": "code",
   "execution_count": 71,
   "metadata": {},
   "outputs": [
    {
     "data": {
      "image/png": "[encoded data removed]",
      "text/plain": [
       "<Figure size 1200x400 with 2 Axes>"
      ]
     },
     "metadata": {},
     "output_type": "display_data"
    }
   ],
   "source": [
    "fig, (ax1, ax2) = plt.subplots(1, 2, figsize=(12, 4), sharey=True)\n",
    "\n",
    "plot_acf(df3['Real GDP'], ax=ax1, title='Real GDP ACF')\n",
    "plot_pacf(df3['Real GDP'], ax=ax2, title='Real GDP PACF')\n",
    "\n",
    "plt.show()"
   ]
  },
  {
   "cell_type": "code",
   "execution_count": 72,
   "metadata": {},
   "outputs": [
    {
     "data": {
      "image/png": "[encoded data removed]",
      "text/plain": [
       "<Figure size 1200x400 with 2 Axes>"
      ]
     },
     "metadata": {},
     "output_type": "display_data"
    }
   ],
   "source": [
    "fig, (ax1, ax2) = plt.subplots(1, 2, figsize=(12, 4), sharey=True)\n",
    "\n",
    "plot_acf(df3['Unemployment Rate'], ax=ax1, title='Unemployment Rate ACF')\n",
    "plot_pacf(df3['Unemployment Rate'], ax=ax2, title='Unemployment Rate PACF')\n",
    "\n",
    "plt.show()"
   ]
  },
  {
   "cell_type": "code",
   "execution_count": 73,
   "metadata": {},
   "outputs": [
    {
     "data": {
      "image/png": "[encoded data removed]",
      "text/plain": [
       "<Figure size 1200x400 with 2 Axes>"
      ]
     },
     "metadata": {},
     "output_type": "display_data"
    }
   ],
   "source": [
    "fig, (ax1, ax2) = plt.subplots(1, 2, figsize=(12, 4), sharey=True)\n",
    "\n",
    "plot_acf(df3['Inflation'], ax=ax1, title='Inflation ACF')\n",
    "plot_pacf(df3['Inflation'], ax=ax2, title='Inflation PACF')\n",
    "\n",
    "plt.show()"
   ]
  },
  {
   "cell_type": "markdown",
   "metadata": {},
   "source": [
    "**38. Explain the principle of parsimony and its relationship with Ockham’s razor using the theory\n",
    "of information criterion.**"
   ]
  },
  {
   "cell_type": "markdown",
   "metadata": {},
   "source": [
    "The principle of parsimony, also known as Occam's razor, is a problem-solving principle that states that when analyzing concurrent hypotheses to explain the same phenomenon, the simplest one, or the one that makes the fewest assumptions, should be preferred. This aligns with the theory of information criterion, as it is a method to select the model that best fits the data.\n",
    "\n",
    "The Akaike information criterion (AIC) and the Bayesian information criterion (BIC), two commonly used information criteria, for example, are based on the principle of parsimony and can be used to compare models with a different number of parameters. They both penalize models with more parameters, which is consistent with the principle of parsimony."
   ]
  },
  {
   "cell_type": "markdown",
   "metadata": {},
   "source": [
    "**39. Explain the problem of auto-correlation of the errors.**"
   ]
  },
  {
   "cell_type": "markdown",
   "metadata": {},
   "source": [
    "Auto-correlation of the errors occurs when the error terms in a regression model are correlated with each other. This means that the error terms in one period are dependent on the error terms in previous periods, which violates the assumption of independence of errors in the regression analysis. \n",
    "\n",
    "When error terms exhibit autocorrelation, ordinary least squares encounters challenges. Despite the unbiased nature of estimated regression coefficients, they lose the property of minimum variance. Additionally, the Mean Squared Error (MSE) can notably underestimate the true variance of errors, and the standard error of regression coefficients may substantially underestimate the actual standard deviation. In such situations, traditional statistical intervals and inference procedures are no longer strictly applicable."
   ]
  },
  {
   "cell_type": "markdown",
   "metadata": {},
   "source": [
    "**40. Using only stationary variables, run a regression of GDP on constant, unemployment and\n",
    "inflation and test the hypothesis of no-autocorrelation of errors.**"
   ]
  },
  {
   "cell_type": "markdown",
   "metadata": {},
   "source": [
    "**41. Regardless of your answer to question 40, correct auto-correlation with GLS. Comment on\n",
    "the difference with question 40.**"
   ]
  },
  {
   "cell_type": "markdown",
   "metadata": {},
   "source": [
    "**42. For all variables, construct their lag 1 and lag 2 variables.**"
   ]
  },
  {
   "cell_type": "code",
   "execution_count": 74,
   "metadata": {},
   "outputs": [
    {
     "data": {
      "text/html": [
       "<div>\n",
       "<style scoped>\n",
       "    .dataframe tbody tr th:only-of-type {\n",
       "        vertical-align: middle;\n",
       "    }\n",
       "\n",
       "    .dataframe tbody tr th {\n",
       "        vertical-align: top;\n",
       "    }\n",
       "\n",
       "    .dataframe thead th {\n",
       "        text-align: right;\n",
       "    }\n",
       "</style>\n",
       "<table border=\"1\" class=\"dataframe\">\n",
       "  <thead>\n",
       "    <tr style=\"text-align: right;\">\n",
       "      <th></th>\n",
       "      <th>Year</th>\n",
       "      <th>Real GDP lag 1</th>\n",
       "      <th>Real GDP lag 2</th>\n",
       "      <th>Unemployment Rate lag 1</th>\n",
       "      <th>Unemployment Rate lag 2</th>\n",
       "      <th>Inflation lag 1</th>\n",
       "      <th>Inflation lag 2</th>\n",
       "    </tr>\n",
       "  </thead>\n",
       "  <tbody>\n",
       "    <tr>\n",
       "      <th>0</th>\n",
       "      <td>1900</td>\n",
       "      <td>None</td>\n",
       "      <td>None</td>\n",
       "      <td>None</td>\n",
       "      <td>None</td>\n",
       "      <td>None</td>\n",
       "      <td>None</td>\n",
       "    </tr>\n",
       "    <tr>\n",
       "      <th>1</th>\n",
       "      <td>1901</td>\n",
       "      <td>181160.264436</td>\n",
       "      <td>None</td>\n",
       "      <td>3.679865</td>\n",
       "      <td>None</td>\n",
       "      <td>4.058273</td>\n",
       "      <td>None</td>\n",
       "    </tr>\n",
       "    <tr>\n",
       "      <th>2</th>\n",
       "      <td>1902</td>\n",
       "      <td>184974.529384</td>\n",
       "      <td>181160.264436</td>\n",
       "      <td>4.877351</td>\n",
       "      <td>3.679865</td>\n",
       "      <td>-0.3</td>\n",
       "      <td>4.058273</td>\n",
       "    </tr>\n",
       "    <tr>\n",
       "      <th>3</th>\n",
       "      <td>1903</td>\n",
       "      <td>187756.550527</td>\n",
       "      <td>184974.529384</td>\n",
       "      <td>5.145694</td>\n",
       "      <td>4.877351</td>\n",
       "      <td>0</td>\n",
       "      <td>-0.3</td>\n",
       "    </tr>\n",
       "    <tr>\n",
       "      <th>4</th>\n",
       "      <td>1904</td>\n",
       "      <td>186015.76815</td>\n",
       "      <td>187756.550527</td>\n",
       "      <td>5.603507</td>\n",
       "      <td>5.145694</td>\n",
       "      <td>1.10331</td>\n",
       "      <td>0</td>\n",
       "    </tr>\n",
       "    <tr>\n",
       "      <th>...</th>\n",
       "      <td>...</td>\n",
       "      <td>...</td>\n",
       "      <td>...</td>\n",
       "      <td>...</td>\n",
       "      <td>...</td>\n",
       "      <td>...</td>\n",
       "      <td>...</td>\n",
       "    </tr>\n",
       "    <tr>\n",
       "      <th>96</th>\n",
       "      <td>1996</td>\n",
       "      <td>1212798</td>\n",
       "      <td>1183144</td>\n",
       "      <td>8.621788</td>\n",
       "      <td>9.496097</td>\n",
       "      <td>2.656452</td>\n",
       "      <td>1.97849</td>\n",
       "    </tr>\n",
       "    <tr>\n",
       "      <th>97</th>\n",
       "      <td>1997</td>\n",
       "      <td>1243709</td>\n",
       "      <td>1212798</td>\n",
       "      <td>8.097052</td>\n",
       "      <td>8.621788</td>\n",
       "      <td>2.400308</td>\n",
       "      <td>2.656452</td>\n",
       "    </tr>\n",
       "    <tr>\n",
       "      <th>98</th>\n",
       "      <td>1998</td>\n",
       "      <td>1282602</td>\n",
       "      <td>1243709</td>\n",
       "      <td>6.972014</td>\n",
       "      <td>8.097052</td>\n",
       "      <td>1.824606</td>\n",
       "      <td>2.400308</td>\n",
       "    </tr>\n",
       "    <tr>\n",
       "      <th>99</th>\n",
       "      <td>1999</td>\n",
       "      <td>1323527</td>\n",
       "      <td>1282602</td>\n",
       "      <td>6.255467</td>\n",
       "      <td>6.972014</td>\n",
       "      <td>1.557398</td>\n",
       "      <td>1.824606</td>\n",
       "    </tr>\n",
       "    <tr>\n",
       "      <th>100</th>\n",
       "      <td>2000</td>\n",
       "      <td>1366983</td>\n",
       "      <td>1323527</td>\n",
       "      <td>5.976813</td>\n",
       "      <td>6.255467</td>\n",
       "      <td>1.32871</td>\n",
       "      <td>1.557398</td>\n",
       "    </tr>\n",
       "  </tbody>\n",
       "</table>\n",
       "<p>101 rows × 7 columns</p>\n",
       "</div>"
      ],
      "text/plain": [
       "     Year Real GDP lag 1 Real GDP lag 2 Unemployment Rate lag 1  \\\n",
       "0    1900           None           None                    None   \n",
       "1    1901  181160.264436           None                3.679865   \n",
       "2    1902  184974.529384  181160.264436                4.877351   \n",
       "3    1903  187756.550527  184974.529384                5.145694   \n",
       "4    1904   186015.76815  187756.550527                5.603507   \n",
       "..    ...            ...            ...                     ...   \n",
       "96   1996        1212798        1183144                8.621788   \n",
       "97   1997        1243709        1212798                8.097052   \n",
       "98   1998        1282602        1243709                6.972014   \n",
       "99   1999        1323527        1282602                6.255467   \n",
       "100  2000        1366983        1323527                5.976813   \n",
       "\n",
       "    Unemployment Rate lag 2 Inflation lag 1 Inflation lag 2  \n",
       "0                      None            None            None  \n",
       "1                      None        4.058273            None  \n",
       "2                  3.679865            -0.3        4.058273  \n",
       "3                  4.877351               0            -0.3  \n",
       "4                  5.145694         1.10331               0  \n",
       "..                      ...             ...             ...  \n",
       "96                 9.496097        2.656452         1.97849  \n",
       "97                 8.621788        2.400308        2.656452  \n",
       "98                 8.097052        1.824606        2.400308  \n",
       "99                 6.972014        1.557398        1.824606  \n",
       "100                6.255467         1.32871        1.557398  \n",
       "\n",
       "[101 rows x 7 columns]"
      ]
     },
     "execution_count": 74,
     "metadata": {},
     "output_type": "execute_result"
    }
   ],
   "source": [
    "\n",
    "df3_lagged = df3.copy()\n",
    "\n",
    "df3_lagged.columns = ['Year', 'Real GDP lag 1', 'Real GDP lag 2', 'Unemployment Rate lag 1']\n",
    "df3_lagged['Real GDP lag 1'] = df3['Real GDP'].shift(1)\n",
    "df3_lagged['Real GDP lag 2'] = df3['Real GDP'].shift(2)\n",
    "df3_lagged['Unemployment Rate lag 1'] = df3['Unemployment Rate'].shift(1)\n",
    "df3_lagged['Unemployment Rate lag 2'] = df3['Unemployment Rate'].shift(2)\n",
    "df3_lagged['Inflation lag 1'] = df3['Inflation'].shift(1)\n",
    "df3_lagged['Inflation lag 2'] = df3['Inflation'].shift(2)\n",
    "\n",
    "df3_lagged"
   ]
  },
  {
   "cell_type": "markdown",
   "metadata": {},
   "source": [
    "**43. Run a regression of GDP on constant, lag 1 unemployment, lag 2 unemployment, lag 1\n",
    "inflation, lag 2 inflation. What is the number of observations and why?**"
   ]
  },
  {
   "cell_type": "markdown",
   "metadata": {},
   "source": [
    "**44. State and test the no-Granger causality hypothesis of unemployment on GDP at the 1% level**"
   ]
  },
  {
   "cell_type": "markdown",
   "metadata": {},
   "source": [
    "**45. Divide the sample in two groups: 1900-1960 and 1961-2000. Test the stability of coefficients between the two periods.**"
   ]
  },
  {
   "cell_type": "markdown",
   "metadata": {},
   "source": [
    "**46. Test the structural breakpoint using a trim ratio of 30% at the 1% level**"
   ]
  }
 ],
 "metadata": {
  "kernelspec": {
   "display_name": "Python 3",
   "language": "python",
   "name": "python3"
  },
  "language_info": {
   "codemirror_mode": {
    "name": "ipython",
    "version": 3
   },
   "file_extension": ".py",
   "mimetype": "text/x-python",
   "name": "python",
   "nbconvert_exporter": "python",
   "pygments_lexer": "ipython3",
   "version": "3.11.7"
  }
 },
 "nbformat": 4,
 "nbformat_minor": 2
}
